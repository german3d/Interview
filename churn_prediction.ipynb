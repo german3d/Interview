{
 "cells": [
  {
   "cell_type": "markdown",
   "metadata": {},
   "source": [
    "## Task:  \n",
    "Telecom churn prediction.  \n",
    "Metric - F1-score.  \n",
    "Model - LogReg (baseline) and XGBoost."
   ]
  },
  {
   "cell_type": "code",
   "execution_count": 1,
   "metadata": {
    "ExecuteTime": {
     "end_time": "2019-01-29T11:51:04.941622Z",
     "start_time": "2019-01-29T11:51:03.519096Z"
    },
    "collapsed": true
   },
   "outputs": [],
   "source": [
    "import itertools\n",
    "import warnings\n",
    "import numpy as np\n",
    "import pandas as pd\n",
    "import matplotlib.pyplot as plt\n",
    "import seaborn as sns\n",
    "import xgboost as xgb\n",
    "from IPython.display import display\n",
    "from sklearn.pipeline import Pipeline\n",
    "from sklearn.preprocessing import StandardScaler\n",
    "from sklearn.model_selection import GridSearchCV, StratifiedKFold, train_test_split\n",
    "from sklearn.linear_model import LogisticRegression\n",
    "from sklearn.metrics import f1_score\n",
    "from sklearn.exceptions import ConvergenceWarning, DataConversionWarning\n",
    "\n",
    "%matplotlib inline\n",
    "\n",
    "warnings.filterwarnings(\"ignore\", category=ConvergenceWarning)\n",
    "warnings.filterwarnings(\"ignore\", category=DataConversionWarning)\n",
    "pd.options.display.max_columns=100\n",
    "pd.options.display.max_rows=100\n",
    "sns.set_style('whitegrid', rc={'grid.linestyle': '--'});"
   ]
  },
  {
   "cell_type": "markdown",
   "metadata": {},
   "source": [
    "### Load data"
   ]
  },
  {
   "cell_type": "code",
   "execution_count": 2,
   "metadata": {
    "ExecuteTime": {
     "end_time": "2019-01-29T11:51:06.859561Z",
     "start_time": "2019-01-29T11:51:04.966079Z"
    },
    "run_control": {
     "marked": false
    }
   },
   "outputs": [
    {
     "name": "stdout",
     "output_type": "stream",
     "text": [
      "data shape: (240000, 12)\n",
      "size, MB: 158.0\n"
     ]
    },
    {
     "data": {
      "text/html": [
       "<div>\n",
       "<style scoped>\n",
       "    .dataframe tbody tr th:only-of-type {\n",
       "        vertical-align: middle;\n",
       "    }\n",
       "\n",
       "    .dataframe tbody tr th {\n",
       "        vertical-align: top;\n",
       "    }\n",
       "\n",
       "    .dataframe thead th {\n",
       "        text-align: right;\n",
       "    }\n",
       "</style>\n",
       "<table border=\"1\" class=\"dataframe\">\n",
       "  <thead>\n",
       "    <tr style=\"text-align: right;\">\n",
       "      <th></th>\n",
       "      <th>NaN</th>\n",
       "      <th>n_unique</th>\n",
       "      <th>dtype</th>\n",
       "    </tr>\n",
       "  </thead>\n",
       "  <tbody>\n",
       "    <tr>\n",
       "      <th>client_id</th>\n",
       "      <td>0</td>\n",
       "      <td>240000</td>\n",
       "      <td>object</td>\n",
       "    </tr>\n",
       "    <tr>\n",
       "      <th>date_reg</th>\n",
       "      <td>0</td>\n",
       "      <td>61</td>\n",
       "      <td>datetime64[ns]</td>\n",
       "    </tr>\n",
       "    <tr>\n",
       "      <th>market</th>\n",
       "      <td>0</td>\n",
       "      <td>84</td>\n",
       "      <td>object</td>\n",
       "    </tr>\n",
       "    <tr>\n",
       "      <th>group</th>\n",
       "      <td>0</td>\n",
       "      <td>46</td>\n",
       "      <td>object</td>\n",
       "    </tr>\n",
       "    <tr>\n",
       "      <th>archetype</th>\n",
       "      <td>0</td>\n",
       "      <td>17</td>\n",
       "      <td>object</td>\n",
       "    </tr>\n",
       "    <tr>\n",
       "      <th>hardware</th>\n",
       "      <td>0</td>\n",
       "      <td>2</td>\n",
       "      <td>object</td>\n",
       "    </tr>\n",
       "    <tr>\n",
       "      <th>channel</th>\n",
       "      <td>0</td>\n",
       "      <td>35</td>\n",
       "      <td>object</td>\n",
       "    </tr>\n",
       "    <tr>\n",
       "      <th>dealer</th>\n",
       "      <td>0</td>\n",
       "      <td>24</td>\n",
       "      <td>object</td>\n",
       "    </tr>\n",
       "    <tr>\n",
       "      <th>phone</th>\n",
       "      <td>14835</td>\n",
       "      <td>3352</td>\n",
       "      <td>object</td>\n",
       "    </tr>\n",
       "    <tr>\n",
       "      <th>type_t</th>\n",
       "      <td>14835</td>\n",
       "      <td>13</td>\n",
       "      <td>object</td>\n",
       "    </tr>\n",
       "    <tr>\n",
       "      <th>device</th>\n",
       "      <td>14835</td>\n",
       "      <td>7</td>\n",
       "      <td>object</td>\n",
       "    </tr>\n",
       "    <tr>\n",
       "      <th>churn</th>\n",
       "      <td>0</td>\n",
       "      <td>2</td>\n",
       "      <td>float64</td>\n",
       "    </tr>\n",
       "  </tbody>\n",
       "</table>\n",
       "</div>"
      ],
      "text/plain": [
       "             NaN  n_unique           dtype\n",
       "client_id      0    240000          object\n",
       "date_reg       0        61  datetime64[ns]\n",
       "market         0        84          object\n",
       "group          0        46          object\n",
       "archetype      0        17          object\n",
       "hardware       0         2          object\n",
       "channel        0        35          object\n",
       "dealer         0        24          object\n",
       "phone      14835      3352          object\n",
       "type_t     14835        13          object\n",
       "device     14835         7          object\n",
       "churn          0         2         float64"
      ]
     },
     "metadata": {},
     "output_type": "display_data"
    },
    {
     "data": {
      "text/html": [
       "<div>\n",
       "<style scoped>\n",
       "    .dataframe tbody tr th:only-of-type {\n",
       "        vertical-align: middle;\n",
       "    }\n",
       "\n",
       "    .dataframe tbody tr th {\n",
       "        vertical-align: top;\n",
       "    }\n",
       "\n",
       "    .dataframe thead th {\n",
       "        text-align: right;\n",
       "    }\n",
       "</style>\n",
       "<table border=\"1\" class=\"dataframe\">\n",
       "  <thead>\n",
       "    <tr style=\"text-align: right;\">\n",
       "      <th></th>\n",
       "      <th>client_id</th>\n",
       "      <th>date_reg</th>\n",
       "      <th>market</th>\n",
       "      <th>group</th>\n",
       "      <th>archetype</th>\n",
       "      <th>hardware</th>\n",
       "      <th>channel</th>\n",
       "      <th>dealer</th>\n",
       "      <th>phone</th>\n",
       "      <th>type_t</th>\n",
       "      <th>device</th>\n",
       "      <th>churn</th>\n",
       "    </tr>\n",
       "  </thead>\n",
       "  <tbody>\n",
       "    <tr>\n",
       "      <th>0</th>\n",
       "      <td>09777552-cc75-4f03-9438-11c3a7480f97</td>\n",
       "      <td>2016-05-10</td>\n",
       "      <td>R25</td>\n",
       "      <td>PP1_9</td>\n",
       "      <td>PP2_0</td>\n",
       "      <td>PPT1</td>\n",
       "      <td>C1_22</td>\n",
       "      <td>C2_22</td>\n",
       "      <td>D2254</td>\n",
       "      <td>DT1_6</td>\n",
       "      <td>DT2_5</td>\n",
       "      <td>0.0</td>\n",
       "    </tr>\n",
       "  </tbody>\n",
       "</table>\n",
       "</div>"
      ],
      "text/plain": [
       "                              client_id   date_reg market  group archetype  \\\n",
       "0  09777552-cc75-4f03-9438-11c3a7480f97 2016-05-10    R25  PP1_9     PP2_0   \n",
       "\n",
       "  hardware channel dealer  phone type_t device  churn  \n",
       "0     PPT1   C1_22  C2_22  D2254  DT1_6  DT2_5    0.0  "
      ]
     },
     "metadata": {},
     "output_type": "display_data"
    }
   ],
   "source": [
    "# Function to display key information about dataset\n",
    "def preview_data(data):\n",
    "    print(\"data shape: {}\".format(data.shape))\n",
    "    print(\"size, MB: {:.1f}\".format(data.memory_usage(deep=True).sum() / 1e6))\n",
    "    display(pd.concat([data.isnull().sum().rename(\"NaN\"), \n",
    "                       data.nunique().rename(\"n_unique\"),\n",
    "                       data.dtypes.rename(\"dtype\")], axis=1))\n",
    "    display(data.head(1))\n",
    "\n",
    "\n",
    "# General data\n",
    "general = pd.read_csv(\"IBM/general_final.csv\", parse_dates=[\"date_reg\"])\n",
    "preview_data(general)"
   ]
  },
  {
   "cell_type": "code",
   "execution_count": 3,
   "metadata": {
    "ExecuteTime": {
     "end_time": "2019-01-29T11:51:12.672280Z",
     "start_time": "2019-01-29T11:51:06.883026Z"
    }
   },
   "outputs": [
    {
     "name": "stdout",
     "output_type": "stream",
     "text": [
      "data shape: (3726461, 8)\n",
      "size, MB: 241.5\n"
     ]
    },
    {
     "data": {
      "text/html": [
       "<div>\n",
       "<style scoped>\n",
       "    .dataframe tbody tr th:only-of-type {\n",
       "        vertical-align: middle;\n",
       "    }\n",
       "\n",
       "    .dataframe tbody tr th {\n",
       "        vertical-align: top;\n",
       "    }\n",
       "\n",
       "    .dataframe thead th {\n",
       "        text-align: right;\n",
       "    }\n",
       "</style>\n",
       "<table border=\"1\" class=\"dataframe\">\n",
       "  <thead>\n",
       "    <tr style=\"text-align: right;\">\n",
       "      <th></th>\n",
       "      <th>NaN</th>\n",
       "      <th>n_unique</th>\n",
       "      <th>dtype</th>\n",
       "    </tr>\n",
       "  </thead>\n",
       "  <tbody>\n",
       "    <tr>\n",
       "      <th>client_id</th>\n",
       "      <td>0</td>\n",
       "      <td>240000</td>\n",
       "      <td>category</td>\n",
       "    </tr>\n",
       "    <tr>\n",
       "      <th>day</th>\n",
       "      <td>0</td>\n",
       "      <td>30</td>\n",
       "      <td>int32</td>\n",
       "    </tr>\n",
       "    <tr>\n",
       "      <th>call_in_num</th>\n",
       "      <td>0</td>\n",
       "      <td>182</td>\n",
       "      <td>float64</td>\n",
       "    </tr>\n",
       "    <tr>\n",
       "      <th>call_out_num</th>\n",
       "      <td>0</td>\n",
       "      <td>408</td>\n",
       "      <td>float64</td>\n",
       "    </tr>\n",
       "    <tr>\n",
       "      <th>call_in_dur</th>\n",
       "      <td>0</td>\n",
       "      <td>13336</td>\n",
       "      <td>float64</td>\n",
       "    </tr>\n",
       "    <tr>\n",
       "      <th>call_out_dur</th>\n",
       "      <td>0</td>\n",
       "      <td>16171</td>\n",
       "      <td>float64</td>\n",
       "    </tr>\n",
       "    <tr>\n",
       "      <th>sms_out_num</th>\n",
       "      <td>0</td>\n",
       "      <td>758</td>\n",
       "      <td>float64</td>\n",
       "    </tr>\n",
       "    <tr>\n",
       "      <th>gprs</th>\n",
       "      <td>0</td>\n",
       "      <td>557206</td>\n",
       "      <td>float64</td>\n",
       "    </tr>\n",
       "  </tbody>\n",
       "</table>\n",
       "</div>"
      ],
      "text/plain": [
       "              NaN  n_unique     dtype\n",
       "client_id       0    240000  category\n",
       "day             0        30     int32\n",
       "call_in_num     0       182   float64\n",
       "call_out_num    0       408   float64\n",
       "call_in_dur     0     13336   float64\n",
       "call_out_dur    0     16171   float64\n",
       "sms_out_num     0       758   float64\n",
       "gprs            0    557206   float64"
      ]
     },
     "metadata": {},
     "output_type": "display_data"
    },
    {
     "data": {
      "text/html": [
       "<div>\n",
       "<style scoped>\n",
       "    .dataframe tbody tr th:only-of-type {\n",
       "        vertical-align: middle;\n",
       "    }\n",
       "\n",
       "    .dataframe tbody tr th {\n",
       "        vertical-align: top;\n",
       "    }\n",
       "\n",
       "    .dataframe thead th {\n",
       "        text-align: right;\n",
       "    }\n",
       "</style>\n",
       "<table border=\"1\" class=\"dataframe\">\n",
       "  <thead>\n",
       "    <tr style=\"text-align: right;\">\n",
       "      <th></th>\n",
       "      <th>client_id</th>\n",
       "      <th>day</th>\n",
       "      <th>call_in_num</th>\n",
       "      <th>call_out_num</th>\n",
       "      <th>call_in_dur</th>\n",
       "      <th>call_out_dur</th>\n",
       "      <th>sms_out_num</th>\n",
       "      <th>gprs</th>\n",
       "    </tr>\n",
       "  </thead>\n",
       "  <tbody>\n",
       "    <tr>\n",
       "      <th>0</th>\n",
       "      <td>09777552-cc75-4f03-9438-11c3a7480f97</td>\n",
       "      <td>7</td>\n",
       "      <td>0.0</td>\n",
       "      <td>3.0</td>\n",
       "      <td>0.0</td>\n",
       "      <td>418.0</td>\n",
       "      <td>0.0</td>\n",
       "      <td>0.0</td>\n",
       "    </tr>\n",
       "  </tbody>\n",
       "</table>\n",
       "</div>"
      ],
      "text/plain": [
       "                              client_id  day  call_in_num  call_out_num  \\\n",
       "0  09777552-cc75-4f03-9438-11c3a7480f97    7          0.0           3.0   \n",
       "\n",
       "   call_in_dur  call_out_dur  sms_out_num  gprs  \n",
       "0          0.0         418.0          0.0   0.0  "
      ]
     },
     "metadata": {},
     "output_type": "display_data"
    }
   ],
   "source": [
    "# Traffic data\n",
    "traf = pd.read_csv(\"IBM/traf_final.csv\", dtype={\"day\": int, \"client_id\": \"category\"})\n",
    "preview_data(traf)"
   ]
  },
  {
   "cell_type": "code",
   "execution_count": 4,
   "metadata": {
    "ExecuteTime": {
     "end_time": "2019-01-29T11:51:14.403550Z",
     "start_time": "2019-01-29T11:51:13.292115Z"
    }
   },
   "outputs": [
    {
     "name": "stdout",
     "output_type": "stream",
     "text": [
      "data shape: (467676, 3)\n",
      "size, MB: 27.0\n"
     ]
    },
    {
     "data": {
      "text/html": [
       "<div>\n",
       "<style scoped>\n",
       "    .dataframe tbody tr th:only-of-type {\n",
       "        vertical-align: middle;\n",
       "    }\n",
       "\n",
       "    .dataframe tbody tr th {\n",
       "        vertical-align: top;\n",
       "    }\n",
       "\n",
       "    .dataframe thead th {\n",
       "        text-align: right;\n",
       "    }\n",
       "</style>\n",
       "<table border=\"1\" class=\"dataframe\">\n",
       "  <thead>\n",
       "    <tr style=\"text-align: right;\">\n",
       "      <th></th>\n",
       "      <th>NaN</th>\n",
       "      <th>n_unique</th>\n",
       "      <th>dtype</th>\n",
       "    </tr>\n",
       "  </thead>\n",
       "  <tbody>\n",
       "    <tr>\n",
       "      <th>client_id</th>\n",
       "      <td>0</td>\n",
       "      <td>153321</td>\n",
       "      <td>category</td>\n",
       "    </tr>\n",
       "    <tr>\n",
       "      <th>day</th>\n",
       "      <td>0</td>\n",
       "      <td>30</td>\n",
       "      <td>int32</td>\n",
       "    </tr>\n",
       "    <tr>\n",
       "      <th>recharges</th>\n",
       "      <td>0</td>\n",
       "      <td>13106</td>\n",
       "      <td>float64</td>\n",
       "    </tr>\n",
       "  </tbody>\n",
       "</table>\n",
       "</div>"
      ],
      "text/plain": [
       "           NaN  n_unique     dtype\n",
       "client_id    0    153321  category\n",
       "day          0        30     int32\n",
       "recharges    0     13106   float64"
      ]
     },
     "metadata": {},
     "output_type": "display_data"
    },
    {
     "data": {
      "text/html": [
       "<div>\n",
       "<style scoped>\n",
       "    .dataframe tbody tr th:only-of-type {\n",
       "        vertical-align: middle;\n",
       "    }\n",
       "\n",
       "    .dataframe tbody tr th {\n",
       "        vertical-align: top;\n",
       "    }\n",
       "\n",
       "    .dataframe thead th {\n",
       "        text-align: right;\n",
       "    }\n",
       "</style>\n",
       "<table border=\"1\" class=\"dataframe\">\n",
       "  <thead>\n",
       "    <tr style=\"text-align: right;\">\n",
       "      <th></th>\n",
       "      <th>client_id</th>\n",
       "      <th>day</th>\n",
       "      <th>recharges</th>\n",
       "    </tr>\n",
       "  </thead>\n",
       "  <tbody>\n",
       "    <tr>\n",
       "      <th>0</th>\n",
       "      <td>6cac2aeb-1816-498f-ad36-c1f27ee3044a</td>\n",
       "      <td>17</td>\n",
       "      <td>333.704</td>\n",
       "    </tr>\n",
       "  </tbody>\n",
       "</table>\n",
       "</div>"
      ],
      "text/plain": [
       "                              client_id  day  recharges\n",
       "0  6cac2aeb-1816-498f-ad36-c1f27ee3044a   17    333.704"
      ]
     },
     "metadata": {},
     "output_type": "display_data"
    }
   ],
   "source": [
    "# Recharge data\n",
    "rech = pd.read_csv(\"IBM/rech_final.csv\", dtype={\"day\": int, \"client_id\": \"category\"})\n",
    "preview_data(rech)"
   ]
  },
  {
   "cell_type": "code",
   "execution_count": 5,
   "metadata": {
    "ExecuteTime": {
     "end_time": "2019-01-29T11:51:21.094124Z",
     "start_time": "2019-01-29T11:51:15.398202Z"
    }
   },
   "outputs": [
    {
     "name": "stdout",
     "output_type": "stream",
     "text": [
      "data shape: (7200000, 3)\n",
      "size, MB: 148.0\n"
     ]
    },
    {
     "data": {
      "text/html": [
       "<div>\n",
       "<style scoped>\n",
       "    .dataframe tbody tr th:only-of-type {\n",
       "        vertical-align: middle;\n",
       "    }\n",
       "\n",
       "    .dataframe tbody tr th {\n",
       "        vertical-align: top;\n",
       "    }\n",
       "\n",
       "    .dataframe thead th {\n",
       "        text-align: right;\n",
       "    }\n",
       "</style>\n",
       "<table border=\"1\" class=\"dataframe\">\n",
       "  <thead>\n",
       "    <tr style=\"text-align: right;\">\n",
       "      <th></th>\n",
       "      <th>NaN</th>\n",
       "      <th>n_unique</th>\n",
       "      <th>dtype</th>\n",
       "    </tr>\n",
       "  </thead>\n",
       "  <tbody>\n",
       "    <tr>\n",
       "      <th>client_id</th>\n",
       "      <td>0</td>\n",
       "      <td>240000</td>\n",
       "      <td>category</td>\n",
       "    </tr>\n",
       "    <tr>\n",
       "      <th>day</th>\n",
       "      <td>0</td>\n",
       "      <td>30</td>\n",
       "      <td>int32</td>\n",
       "    </tr>\n",
       "    <tr>\n",
       "      <th>balance</th>\n",
       "      <td>0</td>\n",
       "      <td>269984</td>\n",
       "      <td>float64</td>\n",
       "    </tr>\n",
       "  </tbody>\n",
       "</table>\n",
       "</div>"
      ],
      "text/plain": [
       "           NaN  n_unique     dtype\n",
       "client_id    0    240000  category\n",
       "day          0        30     int32\n",
       "balance      0    269984   float64"
      ]
     },
     "metadata": {},
     "output_type": "display_data"
    },
    {
     "data": {
      "text/html": [
       "<div>\n",
       "<style scoped>\n",
       "    .dataframe tbody tr th:only-of-type {\n",
       "        vertical-align: middle;\n",
       "    }\n",
       "\n",
       "    .dataframe tbody tr th {\n",
       "        vertical-align: top;\n",
       "    }\n",
       "\n",
       "    .dataframe thead th {\n",
       "        text-align: right;\n",
       "    }\n",
       "</style>\n",
       "<table border=\"1\" class=\"dataframe\">\n",
       "  <thead>\n",
       "    <tr style=\"text-align: right;\">\n",
       "      <th></th>\n",
       "      <th>client_id</th>\n",
       "      <th>day</th>\n",
       "      <th>balance</th>\n",
       "    </tr>\n",
       "  </thead>\n",
       "  <tbody>\n",
       "    <tr>\n",
       "      <th>0</th>\n",
       "      <td>c602c1cf-71d4-413e-a8fe-c9c76abbb14f</td>\n",
       "      <td>0</td>\n",
       "      <td>3225.805111</td>\n",
       "    </tr>\n",
       "  </tbody>\n",
       "</table>\n",
       "</div>"
      ],
      "text/plain": [
       "                              client_id  day      balance\n",
       "0  c602c1cf-71d4-413e-a8fe-c9c76abbb14f    0  3225.805111"
      ]
     },
     "metadata": {},
     "output_type": "display_data"
    }
   ],
   "source": [
    "# Balance data\n",
    "balance = pd.read_csv(\"IBM/balance_final.csv\", dtype={\"day\": int, \"client_id\": \"category\"})\n",
    "preview_data(balance)"
   ]
  },
  {
   "cell_type": "markdown",
   "metadata": {},
   "source": [
    "### Data exploration"
   ]
  },
  {
   "cell_type": "code",
   "execution_count": 6,
   "metadata": {
    "ExecuteTime": {
     "end_time": "2019-01-28T17:13:19.225140Z",
     "start_time": "2019-01-28T17:13:11.589569Z"
    }
   },
   "outputs": [
    {
     "data": {
      "image/png": "[encoded data removed]",
      "text/plain": [
       "<Figure size 720x576 with 2 Axes>"
      ]
     },
     "metadata": {},
     "output_type": "display_data"
    }
   ],
   "source": [
    "# Churn rate and count\n",
    "fig, ax = plt.subplots(nrows=2, ncols=1, figsize=(10, 8));\n",
    "\n",
    "sns.lineplot(x=\"date_reg\", y=\"churn\", data=general, marker=\"s\",\n",
    "             color=\"darkorange\", ax=ax[0]).set_ylabel(\"avg churn\");\n",
    "\n",
    "sns.lineplot(x=\"date_reg\", y=\"churn\", data=general, marker=\"s\",\n",
    "             estimator=len, ax=ax[1]).set_ylabel(\"count\");"
   ]
  },
  {
   "cell_type": "markdown",
   "metadata": {
    "run_control": {
     "marked": false
    }
   },
   "source": [
    "→ classes are slightly imbalanced  \n",
    "→ there are at least 2 anomalous peaks in daily churn data - correspond to rapid drop in registrations"
   ]
  },
  {
   "cell_type": "code",
   "execution_count": 7,
   "metadata": {
    "ExecuteTime": {
     "end_time": "2019-01-28T17:13:28.724103Z",
     "start_time": "2019-01-28T17:13:19.226637Z"
    }
   },
   "outputs": [
    {
     "data": {
      "image/png": "[encoded data removed]",
      "text/plain": [
       "<Figure size 864x360 with 6 Axes>"
      ]
     },
     "metadata": {},
     "output_type": "display_data"
    },
    {
     "data": {
      "image/png": "[encoded data removed]",
      "text/plain": [
       "<Figure size 864x360 with 6 Axes>"
      ]
     },
     "metadata": {},
     "output_type": "display_data"
    }
   ],
   "source": [
    "# Traffic data\n",
    "traf.drop(\"day\", axis=1).groupby(\"client_id\").agg(\"sum\") \\\n",
    "    .hist(layout=(2,3), figsize=(12,5), bins=20);\n",
    "\n",
    "# Traffic data after dropping outliers\n",
    "def mask_outliers(series, q=.01):\n",
    "    series[(series < series.quantile(q)) | (series > series.quantile(1-q))] = np.nan\n",
    "    return series\n",
    "\n",
    "traf.drop(\"day\", axis=1).groupby(\"client_id\").agg(\"sum\").apply(mask_outliers) \\\n",
    "    .hist(layout=(2,3), figsize=(12,5), bins=20);"
   ]
  },
  {
   "cell_type": "markdown",
   "metadata": {},
   "source": [
    "→ there are users with huge traffic volume consumed  \n",
    "→ traffic data distributions are highly skewed to the right  \n",
    "→ many users have traffic volume around zero - might be informative feature"
   ]
  },
  {
   "cell_type": "code",
   "execution_count": 8,
   "metadata": {
    "ExecuteTime": {
     "end_time": "2019-01-28T17:13:30.487827Z",
     "start_time": "2019-01-28T17:13:28.725601Z"
    }
   },
   "outputs": [
    {
     "data": {
      "image/png": "[encoded data removed]",
      "text/plain": [
       "<Figure size 432x288 with 1 Axes>"
      ]
     },
     "metadata": {},
     "output_type": "display_data"
    },
    {
     "data": {
      "image/png": "[encoded data removed]",
      "text/plain": [
       "<Figure size 432x288 with 1 Axes>"
      ]
     },
     "metadata": {},
     "output_type": "display_data"
    }
   ],
   "source": [
    "# Recharge data\n",
    "rech.drop(\"day\", axis=1).groupby(\"client_id\").agg(\"sum\").hist(bins=20)\n",
    "\n",
    "# Recharge data after dropping outliers\n",
    "rech.drop(\"day\", axis=1).groupby(\"client_id\").agg(\"sum\").apply(mask_outliers) \\\n",
    "    .hist(bins=20);"
   ]
  },
  {
   "cell_type": "markdown",
   "metadata": {},
   "source": [
    "→ recharge distribution is very similar to traffic data  \n",
    "→ substantial share of users do not have recharge data - might be extremely useful feature"
   ]
  },
  {
   "cell_type": "code",
   "execution_count": 9,
   "metadata": {
    "ExecuteTime": {
     "end_time": "2019-01-28T17:13:33.468318Z",
     "start_time": "2019-01-28T17:13:30.489324Z"
    }
   },
   "outputs": [
    {
     "data": {
      "image/png": "[encoded data removed]",
      "text/plain": [
       "<Figure size 432x288 with 1 Axes>"
      ]
     },
     "metadata": {},
     "output_type": "display_data"
    },
    {
     "data": {
      "image/png": "[encoded data removed]",
      "text/plain": [
       "<Figure size 432x288 with 1 Axes>"
      ]
     },
     "metadata": {},
     "output_type": "display_data"
    }
   ],
   "source": [
    "# Balance data\n",
    "balance.drop(\"day\", axis=1).groupby(\"client_id\").agg(\"min\").hist(bins=30);\n",
    "\n",
    "# Balance data after dropping outliers\n",
    "balance.drop(\"day\", axis=1).groupby(\"client_id\").agg(\"min\").apply(mask_outliers) \\\n",
    "        .hist(bins=30);"
   ]
  },
  {
   "cell_type": "markdown",
   "metadata": {},
   "source": [
    "→ min balance can be zero or even negative - might help to find churning customers "
   ]
  },
  {
   "cell_type": "markdown",
   "metadata": {},
   "source": [
    "### Feature engineering"
   ]
  },
  {
   "cell_type": "code",
   "execution_count": 6,
   "metadata": {
    "ExecuteTime": {
     "end_time": "2019-01-29T11:51:24.959542Z",
     "start_time": "2019-01-29T11:51:24.330697Z"
    }
   },
   "outputs": [
    {
     "name": "stdout",
     "output_type": "stream",
     "text": [
      "(240000, 251)\n"
     ]
    }
   ],
   "source": [
    "# Missing values in categorical features\n",
    "general.fillna(value=\"missing\", inplace=True)\n",
    "\n",
    "# Phone has a lot of unique values - leave only most common\n",
    "phone_top = (general.groupby(\"phone\").size() > 1000).to_frame(\"n\").query(\"n == True\").index\n",
    "general.loc[~general[\"phone\"].isin(phone_top), \"phone\"] = \"other\"\n",
    "\n",
    "# Categorical columns to dummy variables\n",
    "cols_dummy = [\"market\", \"group\", \"archetype\", \"hardware\", \"channel\", \n",
    "              \"dealer\", \"phone\", \"type_t\", \"device\"]\n",
    "\n",
    "general = pd.get_dummies(general, drop_first=True, columns=cols_dummy)\n",
    "print(general.shape)\n",
    "\n",
    "# There are \"strange\" days which have substantial drops in activation count\n",
    "# Let's pretend we know that something bad happened on those days\n",
    "general[\"strange_date\"] = np.where(general[\"date_reg\"].isin([\"2016-04-03\", \"2016-04-19\"]), 1, 0)"
   ]
  },
  {
   "cell_type": "code",
   "execution_count": 7,
   "metadata": {
    "ExecuteTime": {
     "end_time": "2019-01-29T11:51:36.980205Z",
     "start_time": "2019-01-29T11:51:26.736746Z"
    },
    "run_control": {
     "marked": false
    },
    "scrolled": true
   },
   "outputs": [
    {
     "name": "stdout",
     "output_type": "stream",
     "text": [
      "(7200000, 10)\n"
     ]
    },
    {
     "data": {
      "text/html": [
       "<div>\n",
       "<style scoped>\n",
       "    .dataframe tbody tr th:only-of-type {\n",
       "        vertical-align: middle;\n",
       "    }\n",
       "\n",
       "    .dataframe tbody tr th {\n",
       "        vertical-align: top;\n",
       "    }\n",
       "\n",
       "    .dataframe thead th {\n",
       "        text-align: right;\n",
       "    }\n",
       "</style>\n",
       "<table border=\"1\" class=\"dataframe\">\n",
       "  <thead>\n",
       "    <tr style=\"text-align: right;\">\n",
       "      <th></th>\n",
       "      <th>client_id</th>\n",
       "      <th>day</th>\n",
       "      <th>balance</th>\n",
       "      <th>call_in_num</th>\n",
       "      <th>call_out_num</th>\n",
       "      <th>call_in_dur</th>\n",
       "      <th>call_out_dur</th>\n",
       "      <th>sms_out_num</th>\n",
       "      <th>gprs</th>\n",
       "      <th>recharges</th>\n",
       "    </tr>\n",
       "  </thead>\n",
       "  <tbody>\n",
       "    <tr>\n",
       "      <th>0</th>\n",
       "      <td>c602c1cf-71d4-413e-a8fe-c9c76abbb14f</td>\n",
       "      <td>0</td>\n",
       "      <td>3225.805111</td>\n",
       "      <td>0.0</td>\n",
       "      <td>0.0</td>\n",
       "      <td>0.0</td>\n",
       "      <td>0.0</td>\n",
       "      <td>0.0</td>\n",
       "      <td>51.504642</td>\n",
       "      <td>0.0</td>\n",
       "    </tr>\n",
       "    <tr>\n",
       "      <th>1</th>\n",
       "      <td>c602c1cf-71d4-413e-a8fe-c9c76abbb14f</td>\n",
       "      <td>1</td>\n",
       "      <td>3114.570222</td>\n",
       "      <td>0.0</td>\n",
       "      <td>0.0</td>\n",
       "      <td>0.0</td>\n",
       "      <td>0.0</td>\n",
       "      <td>0.0</td>\n",
       "      <td>40.975853</td>\n",
       "      <td>0.0</td>\n",
       "    </tr>\n",
       "  </tbody>\n",
       "</table>\n",
       "</div>"
      ],
      "text/plain": [
       "                              client_id  day      balance  call_in_num  \\\n",
       "0  c602c1cf-71d4-413e-a8fe-c9c76abbb14f    0  3225.805111          0.0   \n",
       "1  c602c1cf-71d4-413e-a8fe-c9c76abbb14f    1  3114.570222          0.0   \n",
       "\n",
       "   call_out_num  call_in_dur  call_out_dur  sms_out_num       gprs  recharges  \n",
       "0           0.0          0.0           0.0          0.0  51.504642        0.0  \n",
       "1           0.0          0.0           0.0          0.0  40.975853        0.0  "
      ]
     },
     "execution_count": 7,
     "metadata": {},
     "output_type": "execute_result"
    }
   ],
   "source": [
    "# There are missing rows in traffic data and recharge data\n",
    "# i.e. ex. we have only days when any traffic consumption happened\n",
    "# however we need all days as in balance dataframe\n",
    "assert len(set(traf.client_id.unique()) & set(balance.client_id.unique())) == 240_000\n",
    "\n",
    "# Merge balance and traffic and recharge dataframes\n",
    "event = pd.merge(balance, traf, how=\"left\", on=[\"client_id\", \"day\"])\n",
    "event = pd.merge(event, rech, how=\"left\", on=[\"client_id\", \"day\"])\n",
    "event.fillna(0, inplace=True)\n",
    "\n",
    "print(event.shape)\n",
    "event.head(2)"
   ]
  },
  {
   "cell_type": "code",
   "execution_count": 10,
   "metadata": {
    "ExecuteTime": {
     "end_time": "2019-01-29T11:54:32.187518Z",
     "start_time": "2019-01-29T11:54:18.195003Z"
    }
   },
   "outputs": [
    {
     "name": "stdout",
     "output_type": "stream",
     "text": [
      "(240000, 379)\n",
      "0\n"
     ]
    }
   ],
   "source": [
    "agg_funcs = [\"max\", \"min\", \"mean\", \"std\", \"sum\"]\n",
    "\n",
    "# Generate some global features\n",
    "event_global = event.drop(\"day\", axis=1).groupby(\"client_id\").agg(agg_funcs)\n",
    "event_global.columns = [\"_\".join(x) for x in event_global.columns.get_values()]\n",
    "\n",
    "# Features for last 1 / 3 / 7 days\n",
    "event_last1 = event[event[\"day\"] == 29].drop(\"day\", axis=1).set_index(\"client_id\")\n",
    "\n",
    "event_last3 = event[event[\"day\"].isin(range(27,30))].drop(\"day\", axis=1) \\\n",
    "                                .groupby(\"client_id\").agg(agg_funcs)\n",
    "\n",
    "event_last7 = event[event[\"day\"].isin(range(23,30))].drop(\"day\", axis=1) \\\n",
    "                                .groupby(\"client_id\").agg(agg_funcs)\n",
    "\n",
    "for df, i in zip([event_last3, event_last7], [\"3\", \"7\"]):\n",
    "    df.columns = [\"_\".join(x) + \"_\" + i for x in df.columns.get_values()]\n",
    "\n",
    "event_final = pd.concat([event_global, event_last1, event_last3, event_last7], \n",
    "                        axis=1, join=\"inner\", sort=True, verify_integrity=True)\n",
    "\n",
    "# Merge with general dataframe\n",
    "data = pd.merge(general.set_index(\"client_id\"), event_final, how=\"left\", \n",
    "                left_index=True, right_index=True)\n",
    "\n",
    "print(data.shape)\n",
    "print(data.isnull().sum().sum())"
   ]
  },
  {
   "cell_type": "code",
   "execution_count": 11,
   "metadata": {
    "ExecuteTime": {
     "end_time": "2019-01-29T11:54:39.573070Z",
     "start_time": "2019-01-29T11:54:37.595844Z"
    },
    "collapsed": true
   },
   "outputs": [],
   "source": [
    "# Pickle processed data\n",
    "data.to_pickle(\"IBM/data.pcl\")\n",
    "data = pd.read_pickle(\"IBM/data.pcl\")"
   ]
  },
  {
   "cell_type": "code",
   "execution_count": 33,
   "metadata": {
    "ExecuteTime": {
     "end_time": "2019-01-29T14:43:49.888228Z",
     "start_time": "2019-01-29T14:43:48.556707Z"
    }
   },
   "outputs": [
    {
     "name": "stdout",
     "output_type": "stream",
     "text": [
      "(160529, 377) (79471, 377)\n"
     ]
    }
   ],
   "source": [
    "# Train / test data\n",
    "data_train = data[data[\"date_reg\"] < \"2016-05-13\"].drop(\"date_reg\", axis=1)\n",
    "data_test = data[data[\"date_reg\"] >= \"2016-05-13\"].drop(\"date_reg\", axis=1)\n",
    "\n",
    "# Features / target variables\n",
    "X_train, y_train = data_train.drop(\"churn\", axis=1), data_train[\"churn\"]\n",
    "X_test, y_test = data_test.drop(\"churn\", axis=1), data_test[\"churn\"]\n",
    "print(X_train.shape, X_test.shape)"
   ]
  },
  {
   "cell_type": "markdown",
   "metadata": {},
   "source": [
    "### Baseline model"
   ]
  },
  {
   "cell_type": "markdown",
   "metadata": {},
   "source": [
    "Let's fit logistic regression as baseline model"
   ]
  },
  {
   "cell_type": "code",
   "execution_count": 13,
   "metadata": {
    "ExecuteTime": {
     "end_time": "2019-01-29T14:14:47.421850Z",
     "start_time": "2019-01-29T11:54:56.050995Z"
    },
    "run_control": {
     "marked": false
    }
   },
   "outputs": [
    {
     "name": "stdout",
     "output_type": "stream",
     "text": [
      "Fitting 5 folds for each of 4 candidates, totalling 20 fits\n"
     ]
    },
    {
     "name": "stderr",
     "output_type": "stream",
     "text": [
      "[Parallel(n_jobs=6)]: Using backend LokyBackend with 6 concurrent workers.\n",
      "[Parallel(n_jobs=6)]: Done  20 out of  20 | elapsed: 132.3min finished\n"
     ]
    },
    {
     "name": "stdout",
     "output_type": "stream",
     "text": [
      "F1 on test set: 0.71\n",
      "{'clf__C': 0.01}\n"
     ]
    }
   ],
   "source": [
    "# CV generator\n",
    "skf = StratifiedKFold(n_splits=5, random_state=13)\n",
    "\n",
    "# Pipeline for correct work with StandardScaler\n",
    "pipe = Pipeline([\n",
    "        ('scale', StandardScaler()),\n",
    "        ('clf', LogisticRegression(solver=\"saga\", class_weight=\"balanced\", max_iter=500))])\n",
    "\n",
    "# Params grid\n",
    "params = {\"clf__C\": [1e-2, 1e-1, 1, 2]}\n",
    "\n",
    "# Grid search\n",
    "gs = GridSearchCV(pipe,\n",
    "                  params, \n",
    "                  scoring=\"f1\", \n",
    "                  cv=skf, \n",
    "                  verbose=1, \n",
    "                  n_jobs=6,\n",
    "                  return_train_score=True);\n",
    "\n",
    "gs.fit(X_train, y_train);\n",
    "f1_test = f1_score(y_test, gs.predict(X_test))\n",
    "\n",
    "print(\"F1 on test set: {:.2f}\".format(f1_test))\n",
    "print(gs.best_params_)"
   ]
  },
  {
   "cell_type": "markdown",
   "metadata": {},
   "source": [
    "### XGBoost"
   ]
  },
  {
   "cell_type": "code",
   "execution_count": 39,
   "metadata": {
    "ExecuteTime": {
     "end_time": "2019-01-29T14:50:11.355014Z",
     "start_time": "2019-01-29T14:50:11.349524Z"
    },
    "collapsed": true
   },
   "outputs": [],
   "source": [
    "# Function to tune XGBoost hyperparameters\n",
    "def xgb_tune_params(dtrain, params, grid_tuned):    \n",
    "    loss_min = float(\"Inf\")\n",
    "    best_params = None\n",
    "    features = grid_tuned.keys()\n",
    "    iters = itertools.product(*grid_tuned.values())\n",
    "    for it in iters:\n",
    "        i_grid = dict(zip(features, it))\n",
    "        params.update(i_grid)\n",
    "        print(\"CV with {}\".format(i_grid))\n",
    "        cv_results = xgb.cv(params,\n",
    "                            dtrain, \n",
    "                            num_boost_round=1000,\n",
    "                            seed=13, \n",
    "                            folds=skf,\n",
    "                            metrics={\"logloss\"},                            \n",
    "                            early_stopping_rounds=50)\n",
    "        loss_cv = cv_results[\"test-logloss-mean\"].min()\n",
    "        boost_rounds = cv_results[\"test-logloss-mean\"].idxmin()\n",
    "        print(\"\\tlogloss {:.4f} for {} rounds\".format(loss_cv, boost_rounds))\n",
    "        if loss_cv < loss_min:\n",
    "            loss_min = loss_cv\n",
    "            best_params = i_grid\n",
    "    params.update(best_params)\n",
    "    print(\"Best params: {}, logloss: {}\".format(best_params, loss_min))\n",
    "    return params"
   ]
  },
  {
   "cell_type": "code",
   "execution_count": 35,
   "metadata": {
    "ExecuteTime": {
     "end_time": "2019-01-29T14:43:59.790796Z",
     "start_time": "2019-01-29T14:43:57.889323Z"
    },
    "collapsed": true
   },
   "outputs": [],
   "source": [
    "# Split into train / validation set for early stopping\n",
    "X_train, X_val, y_train, y_val = train_test_split(X_test, y_test, test_size=0.15, random_state=13)\n",
    "\n",
    "dtrain = xgb.DMatrix(X_train, label=y_train)\n",
    "dval = xgb.DMatrix(X_val, label=y_val)\n",
    "dtest = xgb.DMatrix(X_test, label=y_test)"
   ]
  },
  {
   "cell_type": "code",
   "execution_count": 46,
   "metadata": {
    "ExecuteTime": {
     "end_time": "2019-01-29T16:55:27.630578Z",
     "start_time": "2019-01-29T16:55:27.619100Z"
    },
    "collapsed": true
   },
   "outputs": [],
   "source": [
    "# Initialize parameters\n",
    "params = {'eval_metric': 'logloss',\n",
    "          'tree_method': 'hist',\n",
    "          'objective': 'binary:logistic',\n",
    "          'silent': True,\n",
    "          'scale_pos_weight': sum(y_train==0) / sum(y_train==1), # unbalanced classes\n",
    "          'eta': 0.1,\n",
    "          'max_depth': 7,\n",
    "          'min_child_weight': 3,\n",
    "          'nthread': 7,\n",
    "          'subsample': 0.8,\n",
    "          'colsample_bytree': 0.6,\n",
    "          'lambda': 10,\n",
    "          'alpha': 0,\n",
    "          'gamma': 0.3,\n",
    "        }"
   ]
  },
  {
   "cell_type": "markdown",
   "metadata": {},
   "source": [
    "Tune tree-specific parameters"
   ]
  },
  {
   "cell_type": "code",
   "execution_count": null,
   "metadata": {
    "ExecuteTime": {
     "end_time": "2019-01-29T15:15:36.433133Z",
     "start_time": "2019-01-29T14:50:18.707948Z"
    },
    "collapsed": true,
    "scrolled": true
   },
   "outputs": [],
   "source": [
    "%%capture\n",
    "params_tune = {\"max_depth\": [3, 5, 7],\n",
    "               \"min_child_weight\": [1, 3, 5]\n",
    "              }\n",
    "\n",
    "params = xgb_tune_params(dtrain, params, params_tune)"
   ]
  },
  {
   "cell_type": "markdown",
   "metadata": {},
   "source": [
    "Tune $\\gamma$ regularization parameter"
   ]
  },
  {
   "cell_type": "code",
   "execution_count": null,
   "metadata": {
    "ExecuteTime": {
     "end_time": "2019-01-29T15:37:32.579713Z",
     "start_time": "2019-01-29T15:17:56.100000Z"
    },
    "collapsed": true,
    "scrolled": true
   },
   "outputs": [],
   "source": [
    "%%capture\n",
    "params_tune = {\"gamma\": [0, .1, .2, .3, .4, .5, .6]\n",
    "              }\n",
    "\n",
    "params = xgb_tune_params(dtrain, params, params_tune)"
   ]
  },
  {
   "cell_type": "markdown",
   "metadata": {},
   "source": [
    "Downsampling observations and feature space "
   ]
  },
  {
   "cell_type": "code",
   "execution_count": null,
   "metadata": {
    "ExecuteTime": {
     "end_time": "2019-01-29T16:33:57.496892Z",
     "start_time": "2019-01-29T15:49:21.988697Z"
    },
    "collapsed": true
   },
   "outputs": [],
   "source": [
    "%%capture\n",
    "params_tune = {\"subsample\": [.6, .7, .8, .9],\n",
    "               \"colsample_bytree\": [.6, .7, .8, .9],\n",
    "              }\n",
    "\n",
    "params = xgb_tune_params(dtrain, params, params_tune)"
   ]
  },
  {
   "cell_type": "markdown",
   "metadata": {},
   "source": [
    "Tune $\\alpha$ and $\\lambda$ parameters ($L1$ / $L2$ regularization)"
   ]
  },
  {
   "cell_type": "code",
   "execution_count": null,
   "metadata": {
    "ExecuteTime": {
     "end_time": "2019-01-29T16:53:45.135873Z",
     "start_time": "2019-01-29T16:35:06.667927Z"
    },
    "collapsed": true
   },
   "outputs": [],
   "source": [
    "%%capture\n",
    "params_tune = {\"lambda\": [0, 10, 100],\n",
    "               \"alpha\": [0, 1e-3, 1e-2]\n",
    "              }\n",
    "\n",
    "params = xgb_tune_params(dtrain, params, params_tune)"
   ]
  },
  {
   "cell_type": "markdown",
   "metadata": {},
   "source": [
    "Increase number of boosted trees and train using tuned parameters"
   ]
  },
  {
   "cell_type": "code",
   "execution_count": 55,
   "metadata": {
    "ExecuteTime": {
     "end_time": "2019-01-29T17:06:00.381129Z",
     "start_time": "2019-01-29T17:05:31.442857Z"
    }
   },
   "outputs": [
    {
     "name": "stdout",
     "output_type": "stream",
     "text": [
      "[20:05:31] Tree method is selected to be 'hist', which uses a single updater grow_fast_histmaker.\n",
      "[0]\tvalidation-logloss:0.65925\n",
      "Will train until validation-logloss hasn't improved in 50 rounds.\n",
      "[200]\tvalidation-logloss:0.464452\n",
      "Stopping. Best iteration:\n",
      "[268]\tvalidation-logloss:0.463909\n",
      "\n",
      "F1 on test set: 0.81\n"
     ]
    }
   ],
   "source": [
    "model = xgb.train(params, \n",
    "                  dtrain, \n",
    "                  num_boost_round=5000,\n",
    "                  evals=[(dval, \"validation\")],\n",
    "                  early_stopping_rounds=50, \n",
    "                  verbose_eval=200)\n",
    "\n",
    "f1_test = f1_score(y_test, model.predict(dtest) > 0.5)\n",
    "print(\"F1 on test set: {:.2f}\".format(f1_test))"
   ]
  },
  {
   "cell_type": "markdown",
   "metadata": {},
   "source": [
    "**Results (F1-measure):**\n",
    "- Logistic regression (baseline): 0.71\n",
    "- XGBoost: 0.81"
   ]
  },
  {
   "cell_type": "code",
   "execution_count": 56,
   "metadata": {
    "ExecuteTime": {
     "end_time": "2019-01-29T17:06:15.923271Z",
     "start_time": "2019-01-29T17:06:15.650773Z"
    },
    "run_control": {
     "marked": false
    }
   },
   "outputs": [
    {
     "data": {
      "image/png": "[encoded data removed]",
      "text/plain": [
       "<Figure size 432x576 with 1 Axes>"
      ]
     },
     "metadata": {},
     "output_type": "display_data"
    }
   ],
   "source": [
    "# Most important features\n",
    "# might be helpful for subsequent feature engineering process\n",
    "fig, ax = plt.subplots(figsize=(6,8));\n",
    "xgb.plot_importance(model, max_num_features=15, height=.5, ax=ax);"
   ]
  }
 ],
 "metadata": {
  "hide_input": false,
  "kernelspec": {
   "display_name": "Python 3",
   "language": "python",
   "name": "python3"
  },
  "language_info": {
   "codemirror_mode": {
    "name": "ipython",
    "version": 3
   },
   "file_extension": ".py",
   "mimetype": "text/x-python",
   "name": "python",
   "nbconvert_exporter": "python",
   "pygments_lexer": "ipython3",
   "version": "3.6.4"
  },
  "toc": {
   "base_numbering": 1,
   "nav_menu": {},
   "number_sections": false,
   "sideBar": true,
   "skip_h1_title": false,
   "title_cell": "Table of Contents",
   "title_sidebar": "Contents",
   "toc_cell": false,
   "toc_position": {},
   "toc_section_display": "block",
   "toc_window_display": false
  },
  "varInspector": {
   "cols": {
    "lenName": 16,
    "lenType": 16,
    "lenVar": 40
   },
   "kernels_config": {
    "python": {
     "delete_cmd_postfix": "",
     "delete_cmd_prefix": "del ",
     "library": "var_list.py",
     "varRefreshCmd": "print(var_dic_list())"
    },
    "r": {
     "delete_cmd_postfix": ") ",
     "delete_cmd_prefix": "rm(",
     "library": "var_list.r",
     "varRefreshCmd": "cat(var_dic_list()) "
    }
   },
   "types_to_exclude": [
    "module",
    "function",
    "builtin_function_or_method",
    "instance",
    "_Feature"
   ],
   "window_display": false
  }
 },
 "nbformat": 4,
 "nbformat_minor": 2
}

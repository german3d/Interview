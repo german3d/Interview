{
 "cells": [
  {
   "cell_type": "markdown",
   "metadata": {},
   "source": [
    "## TASK:  \n",
    "Text classification (50+ classes).  \n",
    "Metric - accuracy."
   ]
  },
  {
   "cell_type": "code",
   "execution_count": 2,
   "metadata": {
    "ExecuteTime": {
     "end_time": "2019-02-03T08:05:44.336808Z",
     "start_time": "2019-02-03T08:05:23.717600Z"
    },
    "colab": {
     "base_uri": "https://localhost:8080/",
     "height": 102
    },
    "colab_type": "code",
    "id": "a5vjSZXscnGs",
    "outputId": "53217a41-8c3e-48b2-b6e7-86933d7f31ee"
   },
   "outputs": [
    {
     "name": "stdout",
     "output_type": "stream",
     "text": [
      "The autoreload extension is already loaded. To reload it, use:\n",
      "  %reload_ext autoreload\n",
      "[nltk_data] Downloading package stopwords to /root/nltk_data...\n",
      "[nltk_data]   Package stopwords is already up-to-date!\n",
      "Drive already mounted at /content/drive; to attempt to forcibly remount, call drive.mount(\"/content/drive\", force_remount=True).\n"
     ]
    }
   ],
   "source": [
    "import re\n",
    "import numpy as np\n",
    "import pandas as pd\n",
    "import matplotlib.pyplot as plt\n",
    "import seaborn as sns\n",
    "import emoji\n",
    "import nltk\n",
    "from nltk.corpus import stopwords\n",
    "from pymystem3 import Mystem\n",
    "from tqdm import tqdm\n",
    "from google.colab import drive\n",
    "from sklearn.pipeline import Pipeline\n",
    "from sklearn.preprocessing import StandardScaler\n",
    "from sklearn.feature_extraction.text import CountVectorizer, TfidfVectorizer\n",
    "from sklearn.svm import LinearSVC\n",
    "from sklearn.model_selection import GridSearchCV, RepeatedStratifiedKFold, train_test_split\n",
    "from keras.preprocessing.text import Tokenizer\n",
    "from keras.preprocessing.sequence import pad_sequences\n",
    "from keras.utils import to_categorical\n",
    "from keras.callbacks import EarlyStopping\n",
    "from keras.models import Model, load_model\n",
    "from keras.layers import (Input, Embedding, Dropout, Dense, concatenate,\n",
    "                          SpatialDropout1D, Convolution1D, GlobalMaxPool1D)\n",
    "\n",
    "%matplotlib inline\n",
    "%load_ext autoreload\n",
    "%autoreload 2\n",
    "\n",
    "nltk.download(\"stopwords\")\n",
    "drive.mount('/content/drive')\n",
    "sns.set_style('whitegrid', rc={'grid.linestyle': '--'});\n",
    "pd.options.display.max_columns=100\n",
    "pd.options.display.max_rows=100\n",
    "pd.options.display.max_colwidth = -1\n",
    "pd.options.mode.chained_assignment = None \n",
    "tqdm.pandas()"
   ]
  },
  {
   "cell_type": "markdown",
   "metadata": {
    "colab_type": "text",
    "id": "0RTDh111cnGy"
   },
   "source": [
    "### Load data"
   ]
  },
  {
   "cell_type": "code",
   "execution_count": 0,
   "metadata": {
    "ExecuteTime": {
     "end_time": "2019-02-03T08:05:44.381934Z",
     "start_time": "2019-02-03T08:05:44.338895Z"
    },
    "colab": {},
    "colab_type": "code",
    "collapsed": true,
    "id": "L4pGNOMDhZFz"
   },
   "outputs": [],
   "source": [
    "# Data directory\n",
    "dir_path = \"drive/My Drive/avito/\""
   ]
  },
  {
   "cell_type": "code",
   "execution_count": 0,
   "metadata": {
    "ExecuteTime": {
     "end_time": "2019-02-03T08:05:44.427874Z",
     "start_time": "2019-02-03T08:05:44.384572Z"
    },
    "colab": {},
    "colab_type": "code",
    "collapsed": true,
    "id": "rQJybXiAcnGz"
   },
   "outputs": [],
   "source": [
    "# Function to display key information about dataset\n",
    "def preview_data(data):\n",
    "    print(\"data shape: {}\".format(data.shape))\n",
    "    print(\"size, MB: {:.2f}\".format(data.memory_usage(deep=True).sum() / 1e6))\n",
    "    display(pd.concat([data.isnull().sum().rename(\"NaN\"),\n",
    "                       data.dtypes.rename(\"dtype\")], axis=1))\n",
    "    display(data.head(2))"
   ]
  },
  {
   "cell_type": "code",
   "execution_count": 14,
   "metadata": {
    "ExecuteTime": {
     "end_time": "2019-02-03T08:05:44.587403Z",
     "start_time": "2019-02-03T08:05:44.430210Z"
    },
    "colab": {
     "base_uri": "https://localhost:8080/",
     "height": 239
    },
    "colab_type": "code",
    "id": "Dl6gbgGQcnG2",
    "outputId": "5eeb487c-8ac9-4246-dae1-d5477894f8b3"
   },
   "outputs": [
    {
     "name": "stdout",
     "output_type": "stream",
     "text": [
      "data shape: (54, 1)\n",
      "size, MB: 0.01\n"
     ]
    },
    {
     "data": {
      "text/html": [
       "<div>\n",
       "<style scoped>\n",
       "    .dataframe tbody tr th:only-of-type {\n",
       "        vertical-align: middle;\n",
       "    }\n",
       "\n",
       "    .dataframe tbody tr th {\n",
       "        vertical-align: top;\n",
       "    }\n",
       "\n",
       "    .dataframe thead th {\n",
       "        text-align: right;\n",
       "    }\n",
       "</style>\n",
       "<table border=\"1\" class=\"dataframe\">\n",
       "  <thead>\n",
       "    <tr style=\"text-align: right;\">\n",
       "      <th></th>\n",
       "      <th>NaN</th>\n",
       "      <th>dtype</th>\n",
       "    </tr>\n",
       "  </thead>\n",
       "  <tbody>\n",
       "    <tr>\n",
       "      <th>name</th>\n",
       "      <td>0</td>\n",
       "      <td>object</td>\n",
       "    </tr>\n",
       "  </tbody>\n",
       "</table>\n",
       "</div>"
      ],
      "text/plain": [
       "      NaN   dtype\n",
       "name  0    object"
      ]
     },
     "metadata": {
      "tags": []
     },
     "output_type": "display_data"
    },
    {
     "data": {
      "text/html": [
       "<div>\n",
       "<style scoped>\n",
       "    .dataframe tbody tr th:only-of-type {\n",
       "        vertical-align: middle;\n",
       "    }\n",
       "\n",
       "    .dataframe tbody tr th {\n",
       "        vertical-align: top;\n",
       "    }\n",
       "\n",
       "    .dataframe thead th {\n",
       "        text-align: right;\n",
       "    }\n",
       "</style>\n",
       "<table border=\"1\" class=\"dataframe\">\n",
       "  <thead>\n",
       "    <tr style=\"text-align: right;\">\n",
       "      <th></th>\n",
       "      <th>name</th>\n",
       "    </tr>\n",
       "    <tr>\n",
       "      <th>category_id</th>\n",
       "      <th></th>\n",
       "    </tr>\n",
       "  </thead>\n",
       "  <tbody>\n",
       "    <tr>\n",
       "      <th>0</th>\n",
       "      <td>Бытовая электроника|Телефоны|iPhone</td>\n",
       "    </tr>\n",
       "    <tr>\n",
       "      <th>1</th>\n",
       "      <td>Бытовая электроника|Ноутбуки</td>\n",
       "    </tr>\n",
       "  </tbody>\n",
       "</table>\n",
       "</div>"
      ],
      "text/plain": [
       "                                            name\n",
       "category_id                                     \n",
       "0            Бытовая электроника|Телефоны|iPhone\n",
       "1            Бытовая электроника|Ноутбуки       "
      ]
     },
     "metadata": {
      "tags": []
     },
     "output_type": "display_data"
    }
   ],
   "source": [
    "# Category data\n",
    "category = pd.read_csv(dir_path + \"category.csv\", index_col=\"category_id\")\n",
    "preview_data(category)"
   ]
  },
  {
   "cell_type": "code",
   "execution_count": 0,
   "metadata": {
    "ExecuteTime": {
     "end_time": "2019-02-03T08:05:50.408662Z",
     "start_time": "2019-02-03T08:05:44.589438Z"
    },
    "colab": {
     "base_uri": "https://localhost:8080/",
     "height": 332
    },
    "colab_type": "code",
    "id": "l2Ok7XXHcnG6",
    "outputId": "e7a30f8b-1e6f-45a2-e699-790bb451d700"
   },
   "outputs": [
    {
     "name": "stdout",
     "output_type": "stream",
     "text": [
      "data shape: (489517, 4)\n",
      "size, MB: 384.51\n"
     ]
    },
    {
     "data": {
      "text/html": [
       "<div>\n",
       "<style scoped>\n",
       "    .dataframe tbody tr th:only-of-type {\n",
       "        vertical-align: middle;\n",
       "    }\n",
       "\n",
       "    .dataframe tbody tr th {\n",
       "        vertical-align: top;\n",
       "    }\n",
       "\n",
       "    .dataframe thead th {\n",
       "        text-align: right;\n",
       "    }\n",
       "</style>\n",
       "<table border=\"1\" class=\"dataframe\">\n",
       "  <thead>\n",
       "    <tr style=\"text-align: right;\">\n",
       "      <th></th>\n",
       "      <th>NaN</th>\n",
       "      <th>dtype</th>\n",
       "    </tr>\n",
       "  </thead>\n",
       "  <tbody>\n",
       "    <tr>\n",
       "      <th>title</th>\n",
       "      <td>0</td>\n",
       "      <td>object</td>\n",
       "    </tr>\n",
       "    <tr>\n",
       "      <th>description</th>\n",
       "      <td>0</td>\n",
       "      <td>object</td>\n",
       "    </tr>\n",
       "    <tr>\n",
       "      <th>price</th>\n",
       "      <td>0</td>\n",
       "      <td>float64</td>\n",
       "    </tr>\n",
       "    <tr>\n",
       "      <th>category_id</th>\n",
       "      <td>0</td>\n",
       "      <td>int64</td>\n",
       "    </tr>\n",
       "  </tbody>\n",
       "</table>\n",
       "</div>"
      ],
      "text/plain": [
       "             NaN    dtype\n",
       "title        0    object \n",
       "description  0    object \n",
       "price        0    float64\n",
       "category_id  0    int64  "
      ]
     },
     "metadata": {
      "tags": []
     },
     "output_type": "display_data"
    },
    {
     "data": {
      "text/html": [
       "<div>\n",
       "<style scoped>\n",
       "    .dataframe tbody tr th:only-of-type {\n",
       "        vertical-align: middle;\n",
       "    }\n",
       "\n",
       "    .dataframe tbody tr th {\n",
       "        vertical-align: top;\n",
       "    }\n",
       "\n",
       "    .dataframe thead th {\n",
       "        text-align: right;\n",
       "    }\n",
       "</style>\n",
       "<table border=\"1\" class=\"dataframe\">\n",
       "  <thead>\n",
       "    <tr style=\"text-align: right;\">\n",
       "      <th></th>\n",
       "      <th>title</th>\n",
       "      <th>description</th>\n",
       "      <th>price</th>\n",
       "      <th>category_id</th>\n",
       "    </tr>\n",
       "    <tr>\n",
       "      <th>item_id</th>\n",
       "      <th></th>\n",
       "      <th></th>\n",
       "      <th></th>\n",
       "      <th></th>\n",
       "    </tr>\n",
       "  </thead>\n",
       "  <tbody>\n",
       "    <tr>\n",
       "      <th>0</th>\n",
       "      <td>Картина</td>\n",
       "      <td>Гобелен. Размеры 139х84см.</td>\n",
       "      <td>1000.0</td>\n",
       "      <td>19</td>\n",
       "    </tr>\n",
       "    <tr>\n",
       "      <th>1</th>\n",
       "      <td>Стулья из прессованной кожи</td>\n",
       "      <td>Продам недорого 4 стула из светлой прессованной кожи, стильные, ножки дугообразные.</td>\n",
       "      <td>1250.0</td>\n",
       "      <td>22</td>\n",
       "    </tr>\n",
       "  </tbody>\n",
       "</table>\n",
       "</div>"
      ],
      "text/plain": [
       "                               title  \\\n",
       "item_id                                \n",
       "0        Картина                       \n",
       "1        Стулья из прессованной кожи   \n",
       "\n",
       "                                                                                 description  \\\n",
       "item_id                                                                                        \n",
       "0        Гобелен. Размеры 139х84см.                                                            \n",
       "1        Продам недорого 4 стула из светлой прессованной кожи, стильные, ножки дугообразные.   \n",
       "\n",
       "          price  category_id  \n",
       "item_id                       \n",
       "0        1000.0  19           \n",
       "1        1250.0  22           "
      ]
     },
     "metadata": {
      "tags": []
     },
     "output_type": "display_data"
    }
   ],
   "source": [
    "# Train data\n",
    "train = pd.read_csv(dir_path + \"train.csv\", index_col=\"item_id\")\n",
    "preview_data(train)"
   ]
  },
  {
   "cell_type": "code",
   "execution_count": 0,
   "metadata": {
    "ExecuteTime": {
     "end_time": "2019-02-03T08:05:52.708461Z",
     "start_time": "2019-02-03T08:05:50.410619Z"
    },
    "colab": {
     "base_uri": "https://localhost:8080/",
     "height": 335
    },
    "colab_type": "code",
    "id": "5WDRWyWu3R84",
    "outputId": "b17888a4-fa31-48b5-8cd0-94353f0e32f1"
   },
   "outputs": [
    {
     "name": "stdout",
     "output_type": "stream",
     "text": [
      "data shape: (243166, 3)\n",
      "size, MB: 188.52\n"
     ]
    },
    {
     "data": {
      "text/html": [
       "<div>\n",
       "<style scoped>\n",
       "    .dataframe tbody tr th:only-of-type {\n",
       "        vertical-align: middle;\n",
       "    }\n",
       "\n",
       "    .dataframe tbody tr th {\n",
       "        vertical-align: top;\n",
       "    }\n",
       "\n",
       "    .dataframe thead th {\n",
       "        text-align: right;\n",
       "    }\n",
       "</style>\n",
       "<table border=\"1\" class=\"dataframe\">\n",
       "  <thead>\n",
       "    <tr style=\"text-align: right;\">\n",
       "      <th></th>\n",
       "      <th>NaN</th>\n",
       "      <th>dtype</th>\n",
       "    </tr>\n",
       "  </thead>\n",
       "  <tbody>\n",
       "    <tr>\n",
       "      <th>title</th>\n",
       "      <td>0</td>\n",
       "      <td>object</td>\n",
       "    </tr>\n",
       "    <tr>\n",
       "      <th>description</th>\n",
       "      <td>0</td>\n",
       "      <td>object</td>\n",
       "    </tr>\n",
       "    <tr>\n",
       "      <th>price</th>\n",
       "      <td>0</td>\n",
       "      <td>float64</td>\n",
       "    </tr>\n",
       "  </tbody>\n",
       "</table>\n",
       "</div>"
      ],
      "text/plain": [
       "             NaN    dtype\n",
       "title        0    object \n",
       "description  0    object \n",
       "price        0    float64"
      ]
     },
     "metadata": {
      "tags": []
     },
     "output_type": "display_data"
    },
    {
     "data": {
      "text/html": [
       "<div>\n",
       "<style scoped>\n",
       "    .dataframe tbody tr th:only-of-type {\n",
       "        vertical-align: middle;\n",
       "    }\n",
       "\n",
       "    .dataframe tbody tr th {\n",
       "        vertical-align: top;\n",
       "    }\n",
       "\n",
       "    .dataframe thead th {\n",
       "        text-align: right;\n",
       "    }\n",
       "</style>\n",
       "<table border=\"1\" class=\"dataframe\">\n",
       "  <thead>\n",
       "    <tr style=\"text-align: right;\">\n",
       "      <th></th>\n",
       "      <th>title</th>\n",
       "      <th>description</th>\n",
       "      <th>price</th>\n",
       "    </tr>\n",
       "    <tr>\n",
       "      <th>item_id</th>\n",
       "      <th></th>\n",
       "      <th></th>\n",
       "      <th></th>\n",
       "    </tr>\n",
       "  </thead>\n",
       "  <tbody>\n",
       "    <tr>\n",
       "      <th>489517</th>\n",
       "      <td>Стоик журнальный сталь</td>\n",
       "      <td>продам журнальный столик изготавливаю столы из полированной нержавеющей стали и стекла или камня  на всю продукцию даю гарантию  стоимость зависит от размеров и дизайна</td>\n",
       "      <td>10000.0</td>\n",
       "    </tr>\n",
       "    <tr>\n",
       "      <th>489518</th>\n",
       "      <td>iPhone 5 64Gb</td>\n",
       "      <td>Телефон в хорошем состоянии. Комплект, гарантия.  Салон сотовой связи. Огромный выбор аксессуаров и запчастей. Новые и б/у сотовые телефоны. Возможен обмен. Ремонт сотовых телефонов.  График работы с 8.30 до 18.00</td>\n",
       "      <td>12500.0</td>\n",
       "    </tr>\n",
       "  </tbody>\n",
       "</table>\n",
       "</div>"
      ],
      "text/plain": [
       "                          title  \\\n",
       "item_id                           \n",
       "489517   Стоик журнальный сталь   \n",
       "489518   iPhone 5 64Gb            \n",
       "\n",
       "                                                                                                                                                                                                                   description  \\\n",
       "item_id                                                                                                                                                                                                                          \n",
       "489517   продам журнальный столик изготавливаю столы из полированной нержавеющей стали и стекла или камня  на всю продукцию даю гарантию  стоимость зависит от размеров и дизайна                                                \n",
       "489518   Телефон в хорошем состоянии. Комплект, гарантия.  Салон сотовой связи. Огромный выбор аксессуаров и запчастей. Новые и б/у сотовые телефоны. Возможен обмен. Ремонт сотовых телефонов.  График работы с 8.30 до 18.00   \n",
       "\n",
       "           price  \n",
       "item_id           \n",
       "489517   10000.0  \n",
       "489518   12500.0  "
      ]
     },
     "metadata": {
      "tags": []
     },
     "output_type": "display_data"
    }
   ],
   "source": [
    "# Test data\n",
    "test = pd.read_csv(dir_path + \"test.csv\", index_col=\"item_id\")\n",
    "preview_data(test)"
   ]
  },
  {
   "cell_type": "markdown",
   "metadata": {
    "colab_type": "text",
    "id": "5P4KutLlcnG9"
   },
   "source": [
    "### Process data"
   ]
  },
  {
   "cell_type": "markdown",
   "metadata": {
    "colab_type": "text",
    "id": "KtZUaXYQcnG-"
   },
   "source": [
    "Expand hierarchy from category data"
   ]
  },
  {
   "cell_type": "code",
   "execution_count": 15,
   "metadata": {
    "ExecuteTime": {
     "end_time": "2019-02-03T08:05:52.773078Z",
     "start_time": "2019-02-03T08:05:52.710487Z"
    },
    "colab": {
     "base_uri": "https://localhost:8080/",
     "height": 213
    },
    "colab_type": "code",
    "id": "uURzaXiucnG-",
    "outputId": "3b638f98-e812-43cb-a951-0329a1fc9eb9"
   },
   "outputs": [
    {
     "name": "stdout",
     "output_type": "stream",
     "text": [
      "name       0 \n",
      "level_0    0 \n",
      "level_1    0 \n",
      "level_2    4 \n",
      "level_3    47\n",
      "dtype: int64\n"
     ]
    },
    {
     "data": {
      "text/html": [
       "<div>\n",
       "<style scoped>\n",
       "    .dataframe tbody tr th:only-of-type {\n",
       "        vertical-align: middle;\n",
       "    }\n",
       "\n",
       "    .dataframe tbody tr th {\n",
       "        vertical-align: top;\n",
       "    }\n",
       "\n",
       "    .dataframe thead th {\n",
       "        text-align: right;\n",
       "    }\n",
       "</style>\n",
       "<table border=\"1\" class=\"dataframe\">\n",
       "  <thead>\n",
       "    <tr style=\"text-align: right;\">\n",
       "      <th></th>\n",
       "      <th>name</th>\n",
       "      <th>level_0</th>\n",
       "      <th>level_1</th>\n",
       "      <th>level_2</th>\n",
       "      <th>level_3</th>\n",
       "    </tr>\n",
       "    <tr>\n",
       "      <th>category_id</th>\n",
       "      <th></th>\n",
       "      <th></th>\n",
       "      <th></th>\n",
       "      <th></th>\n",
       "      <th></th>\n",
       "    </tr>\n",
       "  </thead>\n",
       "  <tbody>\n",
       "    <tr>\n",
       "      <th>0</th>\n",
       "      <td>Бытовая электроника|Телефоны|iPhone</td>\n",
       "      <td>Бытовая электроника</td>\n",
       "      <td>Телефоны</td>\n",
       "      <td>iPhone</td>\n",
       "      <td>NaN</td>\n",
       "    </tr>\n",
       "  </tbody>\n",
       "</table>\n",
       "</div>"
      ],
      "text/plain": [
       "                                            name              level_0  \\\n",
       "category_id                                                             \n",
       "0            Бытовая электроника|Телефоны|iPhone  Бытовая электроника   \n",
       "\n",
       "              level_1 level_2 level_3  \n",
       "category_id                            \n",
       "0            Телефоны  iPhone  NaN     "
      ]
     },
     "execution_count": 15,
     "metadata": {
      "tags": []
     },
     "output_type": "execute_result"
    }
   ],
   "source": [
    "hier_expanded = category.name.str.split(pat=\"|\", expand=True)\n",
    "hier_expanded.columns = [\"level_\" + str(x) for x in hier_expanded.columns]\n",
    "\n",
    "category = pd.concat([category, hier_expanded], axis=1).replace({None: np.nan})\n",
    "print(category.isnull().sum())\n",
    "category.head(1)"
   ]
  },
  {
   "cell_type": "markdown",
   "metadata": {
    "ExecuteTime": {
     "end_time": "2019-01-29T20:23:11.340209Z",
     "start_time": "2019-01-29T20:23:11.316146Z"
    },
    "colab_type": "text",
    "id": "_7DY_xpDcnHB"
   },
   "source": [
    "→ There are omitted categories for level_2 and level_3 of hierarchy, they could be filled with values from previous level"
   ]
  },
  {
   "cell_type": "code",
   "execution_count": 0,
   "metadata": {
    "ExecuteTime": {
     "end_time": "2019-02-03T08:05:52.819120Z",
     "start_time": "2019-02-03T08:05:52.775140Z"
    },
    "colab": {},
    "colab_type": "code",
    "collapsed": true,
    "id": "4l1MF0ObXbNM"
   },
   "outputs": [],
   "source": [
    "category.fillna(method=\"ffill\", axis=1, inplace=True)"
   ]
  },
  {
   "cell_type": "markdown",
   "metadata": {
    "colab_type": "text",
    "id": "6Shn8wERcnHC"
   },
   "source": [
    "Prepare texts for analysis"
   ]
  },
  {
   "cell_type": "code",
   "execution_count": 0,
   "metadata": {
    "ExecuteTime": {
     "end_time": "2019-02-03T08:05:52.874207Z",
     "start_time": "2019-02-03T08:05:52.821804Z"
    },
    "colab": {},
    "colab_type": "code",
    "collapsed": true,
    "id": "T2hXM51bcnHD"
   },
   "outputs": [],
   "source": [
    "# Convenient class with text processing methods\n",
    "class TextProcessor:\n",
    "    def __init__(self, text):\n",
    "        self.text = text\n",
    "\n",
    "    def remove_multiple_spaces(self):\n",
    "        self.text = re.sub(pattern=\"\\s+\", repl=\" \", string=self.text)\n",
    "    \n",
    "    def make_lowercase(self):\n",
    "        self.text = self.text.lower()\n",
    "    \n",
    "    def capture_physical_property(self):\n",
    "        repl_dict = {(\"\\d+(?:[\\d,.]*\\d)?\\s*(х|x|\\*)\\s*\\d+(?:[\\d,.]*\\d)\"\n",
    "                      \"?(?:\\s*(х|x|\\*)\\s*\\d+(?:[\\d,.]*\\d)?)?\"): \" size \",\n",
    "                     \"\\d+(?:[\\d,.]*\\d)?\\s*(см|мм|м(етр)?|сантиметр|миллиметр)\": \" length \",\n",
    "                     \"\\d+(?:[\\d,.]*\\d)?\\s*(км|километр(ов)?)\": \" distance \",\n",
    "                     \"\\d+(?:[\\d,.]*\\d)?\\s*(м²|м2|квм|кв.\\s*м)\": \" square \",\n",
    "                     \"\\d+(?:[\\d,.]*\\d)?\\s*(р|р.|руб(лей)?)\": \" price \",\n",
    "                     \"\\d+\\s*(г(од)?)\": \" year \",\n",
    "                     \"\\d+(\\.|\\/)\\d+(\\.|\\/)\\d{4}\": \" date \",\n",
    "                     \"\\d+(?:[\\d,.]*\\d)?\\s*(л(итр)?|мл|миллилитр)\": \" volume \",\n",
    "                     \"\\d+(?:[\\d,.]*\\d)?\\s*(мг|г(рaм)?|кг|т(он)?|тн|килограм)\": \" weight \",\n",
    "                     \"\\d+(?:[\\d,.]*\\d)?\\s*(шт(ук)?|ед(иниц)?)\": \" quantity \",\n",
    "                     \"\\d+(?:[\\d,.]*\\d)?\\s*(вт|ват|w(att)?)\": \" power \",\n",
    "                     \"\\d+(?:[\\d,.]*\\d)?\\s*(в(ольт)?|v(olt)?)\": \" voltage \",\n",
    "                     \"\\d+(?:[\\d,.]*\\d)?\\s*%\": \" percent \",\n",
    "                    }\n",
    "        for pat,repl in repl_dict.items():\n",
    "            self.text = re.sub(pat, repl, self.text)\n",
    "\n",
    "    def capture_urls(self):\n",
    "        pat = \"http[s]?:[/]?[/]?(?:[a-zA-Z]|[0-9]|[$-_@.&+]|[!*\\(\\),]|(?:%[0-9a-fA-F][0-9a-fA-F]))+—\"\n",
    "        self.text = re.sub(pattern=pat, repl=\" url \", string=self.text)\n",
    "\n",
    "    def capture_numbers(self):\n",
    "        self.text = re.sub(pattern=r\"\\d+(?:[\\d,.]*\\d)?\", repl=\" num \", string=self.text)\n",
    "\n",
    "    def capture_punctuation(self):\n",
    "        repl_dict = {\"!\": \" exclm \",\n",
    "                     \"?\": \" qstn \"}\n",
    "        regex = re.compile(\"(%s)\" % \"|\".join(map(re.escape, repl_dict.keys())))\n",
    "        self.text = regex.sub(lambda x: repl_dict[x.string[x.start(): x.end()]], self.text)\n",
    "\n",
    "    def remove_punctuation(self):\n",
    "        repl_dict = str.maketrans({key: \" \" for key in \\\n",
    "                                   r\"!\\\"#$%&\\'’()*+,-./:;<=>?@[\\\\]^_`{|}~•…«»\"})\n",
    "        self.text = self.text.translate(repl_dict)\n",
    "\n",
    "    def get_lemmas(self):\n",
    "        tokens = mystem.lemmatize(self.text.lower())\n",
    "        tokens = [token for token in tokens if token not in russian_stopwords \\\n",
    "                                                        and token != \" \"]\n",
    "        self.text = \" \".join(tokens)\n",
    "\n",
    "    def convert_emoji(self):\n",
    "        self.text = emoji.demojize(self.text, delimiters=(\" \", \" \"))\n",
    "\n",
    "    def join_tokens(self):\n",
    "        self.text = \" \".join(self.text.split())\n",
    "        \n",
    "    def process_text(self):\n",
    "        self.remove_multiple_spaces()\n",
    "        self.make_lowercase()\n",
    "        self.capture_physical_property()\n",
    "        self.capture_urls()\n",
    "        self.capture_numbers()\n",
    "        self.capture_punctuation()        \n",
    "        self.remove_punctuation()        \n",
    "        self.get_lemmas()\n",
    "        self.convert_emoji()\n",
    "        self.join_tokens()\n",
    "        return self.text"
   ]
  },
  {
   "cell_type": "code",
   "execution_count": 0,
   "metadata": {
    "ExecuteTime": {
     "end_time": "2019-02-03T08:44:05.139533Z",
     "start_time": "2019-02-03T08:05:52.876687Z"
    },
    "colab": {
     "base_uri": "https://localhost:8080/",
     "height": 1541
    },
    "colab_type": "code",
    "id": "2VrM9YHDcnHG",
    "outputId": "519ec942-6a7b-4802-d9db-62abbcedb2bd",
    "scrolled": true
   },
   "outputs": [
    {
     "name": "stderr",
     "output_type": "stream",
     "text": [
      "100%|██████████| 489517/489517 [22:25<00:00, 363.77it/s]\n",
      "100%|██████████| 489517/489517 [03:17<00:00, 2483.38it/s]\n",
      "100%|██████████| 243166/243166 [10:55<00:00, 370.93it/s]\n",
      "100%|██████████| 243166/243166 [01:33<00:00, 2596.57it/s]\n"
     ]
    }
   ],
   "source": [
    "# Initialize Russian stemmer and stopwords\n",
    "mystem = Mystem()\n",
    "russian_stopwords = stopwords.words(\"russian\")\n",
    "\n",
    "# Process descriptions\n",
    "train[\"description_clean\"] = train[\"description\"].progress_apply(\n",
    "                                lambda x: TextProcessor(x).process_text())\n",
    "\n",
    "# Process titles\n",
    "train[\"title_clean\"] = train[\"title\"].progress_apply(\n",
    "                            lambda x: TextProcessor(x).process_text())\n",
    "\n",
    "# The same for test data\n",
    "test[\"description_clean\"] = test[\"description\"].progress_apply(\n",
    "                                lambda x: TextProcessor(x).process_text())\n",
    "\n",
    "test[\"title_clean\"] = test[\"title\"].progress_apply(\n",
    "                            lambda x: TextProcessor(x).process_text())"
   ]
  },
  {
   "cell_type": "markdown",
   "metadata": {
    "ExecuteTime": {
     "start_time": "2019-02-02T00:02:50.234Z"
    },
    "colab_type": "text",
    "id": "hSht14y_cnHJ"
   },
   "source": [
    "### Save / Load clean data from this step"
   ]
  },
  {
   "cell_type": "code",
   "execution_count": 0,
   "metadata": {
    "ExecuteTime": {
     "end_time": "2019-02-03T08:46:20.207439Z",
     "start_time": "2019-02-03T08:46:08.202114Z"
    },
    "colab": {},
    "colab_type": "code",
    "collapsed": true,
    "id": "_ubIdvqLcnHK"
   },
   "outputs": [],
   "source": [
    "# train.to_pickle(dir_path + \"train_clean.pcl\")\n",
    "# test.to_pickle(dir_path + \"test_clean.pcl\")\n",
    "train = pd.read_pickle(dir_path + \"train_clean.pcl\")\n",
    "test = pd.read_pickle(dir_path + \"test_clean.pcl\")"
   ]
  },
  {
   "cell_type": "markdown",
   "metadata": {
    "colab_type": "text",
    "id": "RO0GaraccnHO"
   },
   "source": [
    "Plot distribution of classes"
   ]
  },
  {
   "cell_type": "code",
   "execution_count": 8,
   "metadata": {
    "ExecuteTime": {
     "end_time": "2019-02-01T20:47:08.289846Z",
     "start_time": "2019-02-01T20:47:07.114236Z"
    },
    "colab": {
     "base_uri": "https://localhost:8080/",
     "height": 281
    },
    "colab_type": "code",
    "id": "zNvKaCGscnHP",
    "outputId": "49ac2556-6b5b-4a10-b22b-2497b955bf17"
   },
   "outputs": [
    {
     "data": {
      "image/png": "[encoded data removed]",
      "text/plain": [
       "<Figure size 864x288 with 1 Axes>"
      ]
     },
     "metadata": {
      "tags": []
     },
     "output_type": "display_data"
    }
   ],
   "source": [
    "train.groupby(\"category_id\").size().plot(kind=\"bar\", figsize=(12,4));"
   ]
  },
  {
   "cell_type": "markdown",
   "metadata": {
    "colab_type": "text",
    "id": "2mTVXI1mcnHU"
   },
   "source": [
    "### SVM + BOW"
   ]
  },
  {
   "cell_type": "markdown",
   "metadata": {
    "colab_type": "text",
    "id": "FZoqxRCRcnHV"
   },
   "source": [
    "Fit `SVM with linear kernel` based on bag-of-words features + TF-IDF"
   ]
  },
  {
   "cell_type": "code",
   "execution_count": 0,
   "metadata": {
    "colab": {},
    "colab_type": "code",
    "collapsed": true,
    "id": "NRGB-b2Imi_F"
   },
   "outputs": [],
   "source": [
    "# Concatenate title and description\n",
    "train[\"text_clean\"] = train[\"title_clean\"].str.cat(train[\"description_clean\"], sep=\" \")\n",
    "test[\"text_clean\"] = test[\"title_clean\"].str.cat(test[\"description_clean\"], sep=\" \")"
   ]
  },
  {
   "cell_type": "code",
   "execution_count": 0,
   "metadata": {
    "ExecuteTime": {
     "end_time": "2019-02-01T22:01:23.260919Z",
     "start_time": "2019-02-01T21:43:02.407412Z"
    },
    "colab": {},
    "colab_type": "code",
    "id": "X68yaCjMcnHX",
    "outputId": "e503c6bd-5a34-447f-9772-60b48a3c7669",
    "scrolled": false
   },
   "outputs": [
    {
     "name": "stdout",
     "output_type": "stream",
     "text": [
      "Fitting 5 folds for each of 1 candidates, totalling 5 fits\n"
     ]
    },
    {
     "name": "stderr",
     "output_type": "stream",
     "text": [
      "[Parallel(n_jobs=-1)]: Using backend LokyBackend with 8 concurrent workers.\n",
      "[Parallel(n_jobs=-1)]: Done   2 out of   5 | elapsed: 16.2min remaining: 24.3min\n"
     ]
    },
    {
     "name": "stdout",
     "output_type": "stream",
     "text": [
      "mean train accuracy: 0.91\n",
      "mean test accuracy: 0.88\n",
      "best params: {'features__bow__vectorizer__binary': False, 'features__bow__vectorizer__lowercase': False, 'features__bow__vectorizer__max_features': 20000, 'features__bow__vectorizer__ngram_range': (1, 1), 'features__bow__vectorizer__norm': None, 'features__bow__vectorizer__smooth_idf': False, 'features__bow__vectorizer__stop_words': None, 'features__bow__vectorizer__sublinear_tf': False, 'features__bow__vectorizer__use_idf': False, 'model__C': 0.02, 'model__penalty': 'l2'}\n"
     ]
    },
    {
     "name": "stderr",
     "output_type": "stream",
     "text": [
      "[Parallel(n_jobs=-1)]: Done   5 out of   5 | elapsed: 18.3min finished\n"
     ]
    }
   ],
   "source": [
    "# Initialize CV iterator\n",
    "cv = RepeatedStratifiedKFold(n_splits=5, n_repeats=1, random_state=13)\n",
    "\n",
    "# Pipeline\n",
    "pipe = Pipeline([(\"bow\", TfidfVectorizer(analyzer=\"word\")),\n",
    "                 (\"model\", LinearSVC(dual=False, class_weight=\"balanced\"))\n",
    "                ])\n",
    "\n",
    "# Parameters to tune\n",
    "params = {\"model__C\": [0.02],\n",
    "          \"model__penalty\": [\"l2\"],\n",
    "          \"bow__binary\": [False],\n",
    "          \"bow__stop_words\": [None],\n",
    "          \"bow__lowercase\": [False],\n",
    "          \"bow__max_features\": [20_000],\n",
    "          \"bow__ngram_range\": [(1,1)],\n",
    "          \"bow__use_idf\": [False],\n",
    "          \"bow__smooth_idf\": [False],\n",
    "          \"bow__norm\": [None],\n",
    "          \"bow__sublinear_tf\": [False],\n",
    "         }\n",
    "\n",
    "# Grid Search\n",
    "gs = GridSearchCV(estimator=pipe,\n",
    "                  param_grid=params,\n",
    "                  scoring=\"accuracy\",\n",
    "                  cv=cv,\n",
    "                  verbose=1,\n",
    "                  n_jobs=-1,\n",
    "                  return_train_score=True,\n",
    "                  refit=False,\n",
    "                 );\n",
    "\n",
    "gs.fit(train[[\"text_clean\"]], train[\"category_id\"]);\n",
    "\n",
    "# Accuracy\n",
    "acc_train = gs.cv_results_[\"mean_train_score\"][gs.best_index_]\n",
    "acc_test = gs.cv_results_[\"mean_test_score\"][gs.best_index_]\n",
    "\n",
    "print(f\"mean in-sample accuracy: {acc_train:.4f}\")\n",
    "print(f\"mean out-of-sample accuracy: {acc_test:.4f}\")\n",
    "print(\"best params: {}\".format(gs.best_params_))"
   ]
  },
  {
   "cell_type": "markdown",
   "metadata": {
    "colab_type": "text",
    "id": "rwbeMXSVcnHa"
   },
   "source": [
    "→ Not bad. Let's try to improve result using more sophisticated algorithm"
   ]
  },
  {
   "cell_type": "markdown",
   "metadata": {
    "colab_type": "text",
    "id": "ARB09pQ2cnHb"
   },
   "source": [
    "### CNN"
   ]
  },
  {
   "cell_type": "markdown",
   "metadata": {
    "colab_type": "text",
    "id": "BXjMA4htcnHh"
   },
   "source": [
    "Split part of train data into validation set"
   ]
  },
  {
   "cell_type": "code",
   "execution_count": 0,
   "metadata": {
    "ExecuteTime": {
     "end_time": "2019-02-02T00:24:49.720071Z",
     "start_time": "2019-02-02T00:24:49.363997Z"
    },
    "colab": {},
    "colab_type": "code",
    "collapsed": true,
    "id": "3_ws292BcnHi"
   },
   "outputs": [],
   "source": [
    "# Leave 15% of data for validation set\n",
    "X_train, X_val, y_train, y_val = \\\n",
    "            train_test_split(train, train[\"category_id\"],\n",
    "                             stratify=train[\"category_id\"], \n",
    "                             random_state=13,\n",
    "                             test_size=0.15\n",
    "                            )\n",
    "\n",
    "X_test = test"
   ]
  },
  {
   "cell_type": "markdown",
   "metadata": {
    "colab_type": "text",
    "id": "F4lXT5hA09JJ"
   },
   "source": [
    "Prepare data"
   ]
  },
  {
   "cell_type": "code",
   "execution_count": 0,
   "metadata": {
    "ExecuteTime": {
     "end_time": "2019-02-02T00:25:44.728680Z",
     "start_time": "2019-02-02T00:25:18.749908Z"
    },
    "colab": {},
    "colab_type": "code",
    "collapsed": true,
    "id": "JiaByLC-cnHn"
   },
   "outputs": [],
   "source": [
    "# Vocabulary size\n",
    "max_words = 100_000\n",
    "\n",
    "# Description\n",
    "tok_desc = Tokenizer(num_words=max_words)\n",
    "tok_desc.fit_on_texts(X_train[\"description_clean\"])\n",
    "desc_train = tok_desc.texts_to_sequences(X_train[\"description_clean\"])\n",
    "desc_val = tok_desc.texts_to_sequences(X_val[\"description_clean\"])\n",
    "desc_test = tok_desc.texts_to_sequences(X_test[\"description_clean\"])\n",
    "\n",
    "# Title\n",
    "tok_title = Tokenizer(num_words=max_words)\n",
    "tok_title.fit_on_texts(X_train[\"title_clean\"])\n",
    "title_train = tok_title.texts_to_sequences(X_train[\"title_clean\"])\n",
    "title_val = tok_title.texts_to_sequences(X_val[\"title_clean\"])\n",
    "title_test = tok_title.texts_to_sequences(X_test[\"title_clean\"])\n",
    "\n",
    "# Other features\n",
    "cols_other = [\"price\"]\n",
    "scaler = StandardScaler();\n",
    "other_train = scaler.fit_transform(X_train[cols_other])\n",
    "other_val = scaler.transform(X_val[cols_other])\n",
    "other_test = scaler.transform(X_test[cols_other])"
   ]
  },
  {
   "cell_type": "code",
   "execution_count": 7,
   "metadata": {
    "colab": {
     "base_uri": "https://localhost:8080/",
     "height": 265
    },
    "colab_type": "code",
    "id": "44VT1JePmi_W",
    "outputId": "eee75be3-5b4d-46a0-baa9-ec496048b9a3"
   },
   "outputs": [
    {
     "data": {
      "image/png": "[encoded data removed]",
      "text/plain": [
       "<Figure size 720x288 with 2 Axes>"
      ]
     },
     "metadata": {
      "tags": []
     },
     "output_type": "display_data"
    }
   ],
   "source": [
    "# Plot distributions of text lengths\n",
    "fig, ax = plt.subplots(1, 2, figsize=(10,4));\n",
    "ax[0].hist([len(x) for x in desc_train], bins=50);\n",
    "ax[1].hist([len(x) for x in title_train], bins=50);"
   ]
  },
  {
   "cell_type": "markdown",
   "metadata": {
    "colab_type": "text",
    "id": "J0XgiTg30x8s"
   },
   "source": [
    "→ Most texts have < 250 words"
   ]
  },
  {
   "cell_type": "code",
   "execution_count": 0,
   "metadata": {
    "ExecuteTime": {
     "end_time": "2019-02-02T00:26:40.393495Z",
     "start_time": "2019-02-02T00:26:37.550323Z"
    },
    "colab": {},
    "colab_type": "code",
    "collapsed": true,
    "id": "-EUMSqiLcnHw"
   },
   "outputs": [],
   "source": [
    "desc_len = 250\n",
    "title_len = 15\n",
    "\n",
    "# Sequences of indices to matrix\n",
    "desc_train = pad_sequences(desc_train, truncating=\"post\", maxlen=desc_len)\n",
    "desc_val = pad_sequences(desc_val, truncating=\"post\", maxlen=desc_len)\n",
    "desc_test = pad_sequences(desc_test, truncating=\"post\", maxlen=desc_len)\n",
    "\n",
    "title_train = pad_sequences(title_train, truncating=\"post\", maxlen=title_len)\n",
    "title_val = pad_sequences(title_val, truncating=\"post\", maxlen=title_len)\n",
    "title_test = pad_sequences(title_test, truncating=\"post\", maxlen=title_len)\n",
    "\n",
    "# Target vector with labels to matrix\n",
    "num_classes = y_train.unique().shape[0]\n",
    "y_train = to_categorical(y_train, num_classes)\n",
    "y_val = to_categorical(y_val, num_classes)"
   ]
  },
  {
   "cell_type": "markdown",
   "metadata": {
    "colab_type": "text",
    "id": "W5Cks8n-1Srq"
   },
   "source": [
    "CNN architecture"
   ]
  },
  {
   "cell_type": "code",
   "execution_count": 9,
   "metadata": {
    "colab": {
     "base_uri": "https://localhost:8080/",
     "height": 646
    },
    "colab_type": "code",
    "id": "ClUW8IXzOZ-B",
    "outputId": "21d016fa-add2-4928-a668-cb0191bb66a8"
   },
   "outputs": [
    {
     "name": "stdout",
     "output_type": "stream",
     "text": [
      "__________________________________________________________________________________________________\n",
      "Layer (type)                    Output Shape         Param #     Connected to                     \n",
      "==================================================================================================\n",
      "desc_input (InputLayer)         (None, 250)          0                                            \n",
      "__________________________________________________________________________________________________\n",
      "title_input (InputLayer)        (None, 15)           0                                            \n",
      "__________________________________________________________________________________________________\n",
      "embedding_1 (Embedding)         (None, 250, 300)     30000000    desc_input[0][0]                 \n",
      "__________________________________________________________________________________________________\n",
      "embedding_2 (Embedding)         (None, 15, 300)      30000000    title_input[0][0]                \n",
      "__________________________________________________________________________________________________\n",
      "spatial_dropout1d_1 (SpatialDro (None, 250, 300)     0           embedding_1[0][0]                \n",
      "__________________________________________________________________________________________________\n",
      "spatial_dropout1d_2 (SpatialDro (None, 15, 300)      0           embedding_2[0][0]                \n",
      "__________________________________________________________________________________________________\n",
      "conv1d_1 (Conv1D)               (None, 248, 256)     230656      spatial_dropout1d_1[0][0]        \n",
      "__________________________________________________________________________________________________\n",
      "conv1d_2 (Conv1D)               (None, 13, 256)      230656      spatial_dropout1d_2[0][0]        \n",
      "__________________________________________________________________________________________________\n",
      "global_max_pooling1d_1 (GlobalM (None, 256)          0           conv1d_1[0][0]                   \n",
      "__________________________________________________________________________________________________\n",
      "global_max_pooling1d_2 (GlobalM (None, 256)          0           conv1d_2[0][0]                   \n",
      "__________________________________________________________________________________________________\n",
      "other_input (InputLayer)        (None, 1)            0                                            \n",
      "__________________________________________________________________________________________________\n",
      "concatenate_1 (Concatenate)     (None, 513)          0           global_max_pooling1d_1[0][0]     \n",
      "                                                                 global_max_pooling1d_2[0][0]     \n",
      "                                                                 other_input[0][0]                \n",
      "__________________________________________________________________________________________________\n",
      "dropout_1 (Dropout)             (None, 513)          0           concatenate_1[0][0]              \n",
      "__________________________________________________________________________________________________\n",
      "output (Dense)                  (None, 54)           27756       dropout_1[0][0]                  \n",
      "==================================================================================================\n",
      "Total params: 60,489,068\n",
      "Trainable params: 60,489,068\n",
      "Non-trainable params: 0\n",
      "__________________________________________________________________________________________________\n"
     ]
    }
   ],
   "source": [
    "# Build Keras CNN model\n",
    "def CNN():\n",
    "    # Description input\n",
    "    desc_input = Input(shape=(desc_len,), dtype='int32', name='desc_input')\n",
    "    desc_x = Embedding(max_words, 300, input_length=desc_len)(desc_input)\n",
    "    desc_x = SpatialDropout1D(0.5)(desc_x)\n",
    "    desc_x = Convolution1D(256, 3, activation=\"relu\")(desc_x)\n",
    "    desc_x = GlobalMaxPool1D()(desc_x)\n",
    "    \n",
    "    # Title input\n",
    "    title_input = Input(shape=(title_len,), dtype='int32', name='title_input')\n",
    "    title_x = Embedding(max_words, 300, input_length=title_len)(title_input)\n",
    "    title_x = SpatialDropout1D(0.5)(title_x)\n",
    "    title_x = Convolution1D(256, 3, activation=\"relu\")(title_x)\n",
    "    title_x = GlobalMaxPool1D()(title_x)\n",
    "    \n",
    "    # Other input\n",
    "    other_input = Input(shape=(len(cols_other),), name='other_input')\n",
    "    x = concatenate([desc_x, title_x, other_input])\n",
    "    x = Dropout(0.3)(x)\n",
    "    out = Dense(num_classes, activation='linear', name=\"output\")(x)\n",
    "    model = Model(inputs=[desc_input, title_input, other_input], outputs=[out])\n",
    "    return model\n",
    "\n",
    "model = CNN()\n",
    "\n",
    "# Compile model\n",
    "model.summary()\n",
    "model.compile(loss='categorical_hinge', optimizer='adam', metrics=['accuracy'])"
   ]
  },
  {
   "cell_type": "markdown",
   "metadata": {
    "colab_type": "text",
    "id": "-mHYmsgG1fuF"
   },
   "source": [
    "Train CNN"
   ]
  },
  {
   "cell_type": "code",
   "execution_count": 10,
   "metadata": {
    "colab": {
     "base_uri": "https://localhost:8080/",
     "height": 221
    },
    "colab_type": "code",
    "id": "K3pSwiSb-hHk",
    "outputId": "13fc7141-8700-47ef-c5ea-1d426de1d7d9"
   },
   "outputs": [
    {
     "name": "stdout",
     "output_type": "stream",
     "text": [
      "Train on 416089 samples, validate on 73428 samples\n",
      "Epoch 1/20\n",
      "416089/416089 [==============================] - 149s 358us/step - loss: 0.6041 - acc: 0.6869 - val_loss: 0.3146 - val_acc: 0.8632\n",
      "Epoch 2/20\n",
      "416089/416089 [==============================] - 144s 345us/step - loss: 0.2899 - acc: 0.8786 - val_loss: 0.2695 - val_acc: 0.8843\n",
      "Epoch 3/20\n",
      "416089/416089 [==============================] - 144s 345us/step - loss: 0.2399 - acc: 0.9022 - val_loss: 0.2597 - val_acc: 0.8888\n",
      "Epoch 4/20\n",
      "416089/416089 [==============================] - 143s 345us/step - loss: 0.2091 - acc: 0.9159 - val_loss: 0.2594 - val_acc: 0.8912\n",
      "Epoch 5/20\n",
      "416089/416089 [==============================] - 144s 347us/step - loss: 0.1862 - acc: 0.9262 - val_loss: 0.2625 - val_acc: 0.8908\n"
     ]
    },
    {
     "data": {
      "text/plain": [
       "<keras.callbacks.History at 0x7f8eb14cfbe0>"
      ]
     },
     "execution_count": 10,
     "metadata": {
      "tags": []
     },
     "output_type": "execute_result"
    }
   ],
   "source": [
    "# Fit the model with early stopping\n",
    "model.fit(x=[desc_train, title_train, other_train],\n",
    "          y=y_train,\n",
    "          validation_data=([desc_val, title_val, other_val], y_val),\n",
    "          batch_size=2048,\n",
    "          epochs=20,\n",
    "          callbacks=[EarlyStopping(monitor='val_loss',\n",
    "                                   min_delta=0.0001, \n",
    "                                   restore_best_weights=True)]\n",
    "         )"
   ]
  },
  {
   "cell_type": "markdown",
   "metadata": {
    "colab_type": "text",
    "id": "jyXztnZH1mDc"
   },
   "source": [
    "→ Now we have slightly better results than with SVM"
   ]
  },
  {
   "cell_type": "code",
   "execution_count": 0,
   "metadata": {
    "colab": {},
    "colab_type": "code",
    "collapsed": true,
    "id": "yDVjR-eD3OfN"
   },
   "outputs": [],
   "source": [
    "# Save model\n",
    "model.save(dir_path + \"cnn_keras.h5\")\n",
    "# model = load_model(dir_path + \"cnn_keras.h5\")"
   ]
  },
  {
   "cell_type": "markdown",
   "metadata": {
    "colab_type": "text",
    "id": "-Z1yDiJzufoz"
   },
   "source": [
    "Make predictions for validation data and calculate accuracy for various hierarchical levels"
   ]
  },
  {
   "cell_type": "code",
   "execution_count": 0,
   "metadata": {
    "colab": {},
    "colab_type": "code",
    "collapsed": true,
    "id": "pLJF5uZ-uNMm"
   },
   "outputs": [],
   "source": [
    "# Make predictions\n",
    "X_val[\"prediction_id\"] = model.predict(x=[desc_val, title_val, other_val]).argmax(axis=-1)\n",
    "\n",
    "# Provide category labels\n",
    "X_val = pd.merge(X_val, category, left_on=\"category_id\", right_index=True)\n",
    "X_val = pd.merge(X_val, category, left_on=\"prediction_id\", right_index=True, suffixes=(\"_true\", \"_pred\"))"
   ]
  },
  {
   "cell_type": "code",
   "execution_count": 23,
   "metadata": {
    "colab": {
     "base_uri": "https://localhost:8080/",
     "height": 85
    },
    "colab_type": "code",
    "id": "o6FaDWyTsbFU",
    "outputId": "b5a7c38c-ac4f-43c2-8dc9-5ba1306e5eb4"
   },
   "outputs": [
    {
     "name": "stdout",
     "output_type": "stream",
     "text": [
      "name: 0.8912\n",
      "level_0: 0.9640\n",
      "level_1: 0.9461\n",
      "level_2: 0.8972\n"
     ]
    }
   ],
   "source": [
    "# Calculate accuracy for each level of validation set\n",
    "for lvl in (\"name\", \"level_0\", \"level_1\", \"level_2\"):    \n",
    "    acc_lvl = (X_val[lvl + \"_true\"] == X_val[lvl + \"_pred\"]).sum() / X_val.shape[0]\n",
    "    print(f\"{lvl}: {acc_lvl:.4f}\")"
   ]
  },
  {
   "cell_type": "markdown",
   "metadata": {
    "colab_type": "text",
    "id": "lDTzCsSCyBv_"
   },
   "source": [
    "Create submission file for test data"
   ]
  },
  {
   "cell_type": "code",
   "execution_count": 0,
   "metadata": {
    "colab": {},
    "colab_type": "code",
    "collapsed": true,
    "id": "VpiNUIh2yAdp"
   },
   "outputs": [],
   "source": [
    "# Predict\n",
    "X_test[\"category_id\"] = model.predict(x=[desc_test, title_test, other_test]).argmax(axis=-1)\n",
    "subm = X_train[[\"category_id\"]]\n",
    "\n",
    "# Save to csv\n",
    "subm.to_csv(dir_path + \"submission.csv\", index=True)"
   ]
  }
 ],
 "metadata": {
  "accelerator": "GPU",
  "colab": {
   "collapsed_sections": [],
   "name": "avito_category.ipynb",
   "provenance": [],
   "toc_visible": true,
   "version": "0.3.2"
  },
  "hide_input": false,
  "kernelspec": {
   "display_name": "Python 3",
   "language": "python",
   "name": "python3"
  },
  "language_info": {
   "codemirror_mode": {
    "name": "ipython",
    "version": 3
   },
   "file_extension": ".py",
   "mimetype": "text/x-python",
   "name": "python",
   "nbconvert_exporter": "python",
   "pygments_lexer": "ipython3",
   "version": "3.6.4"
  },
  "toc": {
   "base_numbering": 1,
   "nav_menu": {},
   "number_sections": false,
   "sideBar": true,
   "skip_h1_title": false,
   "title_cell": "Table of Contents",
   "title_sidebar": "Contents",
   "toc_cell": false,
   "toc_position": {},
   "toc_section_display": true,
   "toc_window_display": true
  }
 },
 "nbformat": 4,
 "nbformat_minor": 1
}
